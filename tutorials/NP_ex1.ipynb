{
 "cells": [
  {
   "cell_type": "code",
   "execution_count": 1,
   "metadata": {},
   "outputs": [
    {
     "name": "stderr",
     "output_type": "stream",
     "text": [
      "c:\\Users\\82109\\anaconda3\\envs\\botorch_ex\\lib\\site-packages\\tqdm\\auto.py:21: TqdmWarning: IProgress not found. Please update jupyter and ipywidgets. See https://ipywidgets.readthedocs.io/en/stable/user_install.html\n",
      "  from .autonotebook import tqdm as notebook_tqdm\n"
     ]
    }
   ],
   "source": [
    "# import pandas as pd\n",
    "# import numpy as np\n",
    "import collections\n",
    "\n",
    "import math\n",
    "\n",
    "import matplotlib\n",
    "import matplotlib.pyplot as plt\n",
    "from matplotlib import rc\n",
    "\n",
    "import torch\n",
    "from torch import nn\n",
    "from torch.utils.data import TensorDataset, DataLoader\n",
    "\n",
    "from ANP import *\n",
    "\n",
    "import os\n",
    "import math\n",
    "from dataclasses import dataclass\n",
    "\n",
    "import torch\n",
    "from botorch.acquisition import qExpectedImprovement\n",
    "from botorch.fit import fit_gpytorch_mll\n",
    "from botorch.generation import MaxPosteriorSampling\n",
    "from botorch.models import SingleTaskGP\n",
    "from botorch.optim import optimize_acqf\n",
    "from botorch.test_functions import Ackley\n",
    "from botorch.utils.transforms import unnormalize\n",
    "from torch.quasirandom import SobolEngine\n",
    "\n",
    "import gpytorch\n",
    "from gpytorch.constraints import Interval\n",
    "from gpytorch.kernels import MaternKernel, ScaleKernel\n",
    "from gpytorch.likelihoods import GaussianLikelihood\n",
    "from gpytorch.mlls import ExactMarginalLogLikelihood\n",
    "from gpytorch.priors import HorseshoePrior\n",
    "\n",
    "\n",
    "device = torch.device(\"cuda\" if torch.cuda.is_available() else \"cpu\")\n",
    "dtype = torch.float\n",
    "SMOKE_TEST = os.environ.get(\"SMOKE_TEST\")\n",
    "\n",
    "import warnings\n",
    "warnings.filterwarnings(\"ignore\")"
   ]
  },
  {
   "cell_type": "code",
   "execution_count": 2,
   "metadata": {},
   "outputs": [
    {
     "name": "stdout",
     "output_type": "stream",
     "text": [
      "20\n"
     ]
    }
   ],
   "source": [
    "fun = Ackley(dim=20, negate=True).to(dtype=dtype, device=device)\n",
    "fun.bounds[0, :].fill_(-5)\n",
    "fun.bounds[1, :].fill_(10)\n",
    "dim = fun.dim\n",
    "lb, ub = fun.bounds\n",
    "print(dim)\n",
    "\n",
    "batch_size = 4\n",
    "n_init = 2 * dim\n",
    "max_cholesky_size = float(\"inf\")  # Always use Cholesky\n",
    "\n",
    "NUM_RESTARTS = 10 if not SMOKE_TEST else 2\n",
    "RAW_SAMPLES = 512 if not SMOKE_TEST else 4\n",
    "N_CANDIDATES = min(5000, max(2000, 200 * dim)) if not SMOKE_TEST else 4"
   ]
  },
  {
   "cell_type": "code",
   "execution_count": 3,
   "metadata": {},
   "outputs": [
    {
     "name": "stdout",
     "output_type": "stream",
     "text": [
      "512\n"
     ]
    }
   ],
   "source": [
    "print(RAW_SAMPLES)"
   ]
  },
  {
   "cell_type": "code",
   "execution_count": 4,
   "metadata": {},
   "outputs": [],
   "source": [
    "def eval_objective(x):\n",
    "    \"\"\"This is a helper function we use to unnormalize and evalaute a point\"\"\"\n",
    "    return fun(unnormalize(x, fun.bounds))\n",
    "\n",
    "def get_initial_points(dim, n_pts, seed=0):\n",
    "    sobol = SobolEngine(dimension=dim, scramble=True, seed=seed)\n",
    "    X_init = sobol.draw(n=n_pts).to(dtype=dtype, device=device)\n",
    "    return X_init"
   ]
  },
  {
   "cell_type": "code",
   "execution_count": 5,
   "metadata": {},
   "outputs": [],
   "source": [
    "# X_ei = get_initial_points(dim, n_init)\n",
    "# Y_ei = torch.tensor(\n",
    "#     [eval_objective(x) for x in X_ei], dtype=dtype, device=device\n",
    "# ).unsqueeze(-1)\n",
    "# print(X_ei.size())\n",
    "# print(Y_ei.size())"
   ]
  },
  {
   "cell_type": "markdown",
   "metadata": {},
   "source": [
    "### GP-EI"
   ]
  },
  {
   "cell_type": "code",
   "execution_count": 6,
   "metadata": {},
   "outputs": [
    {
     "name": "stderr",
     "output_type": "stream",
     "text": [
      "c:\\Users\\82109\\anaconda3\\envs\\botorch_ex\\lib\\site-packages\\botorch\\models\\gp_regression.py:161: UserWarning: The model inputs are of type torch.float32. It is strongly recommended to use double precision in BoTorch, as this improves both precision and stability and can help avoid numerical errors. See https://github.com/pytorch/botorch/discussions/1444\n",
      "  self._validate_tensor_args(X=transformed_X, Y=train_Y, Yvar=train_Yvar)\n"
     ]
    },
    {
     "name": "stdout",
     "output_type": "stream",
     "text": [
      "44) Best value: -1.15e+01\n"
     ]
    },
    {
     "name": "stderr",
     "output_type": "stream",
     "text": [
      "c:\\Users\\82109\\anaconda3\\envs\\botorch_ex\\lib\\site-packages\\botorch\\models\\gp_regression.py:161: UserWarning: The model inputs are of type torch.float32. It is strongly recommended to use double precision in BoTorch, as this improves both precision and stability and can help avoid numerical errors. See https://github.com/pytorch/botorch/discussions/1444\n",
      "  self._validate_tensor_args(X=transformed_X, Y=train_Y, Yvar=train_Yvar)\n"
     ]
    },
    {
     "name": "stdout",
     "output_type": "stream",
     "text": [
      "48) Best value: -1.06e+01\n"
     ]
    },
    {
     "name": "stderr",
     "output_type": "stream",
     "text": [
      "c:\\Users\\82109\\anaconda3\\envs\\botorch_ex\\lib\\site-packages\\botorch\\models\\gp_regression.py:161: UserWarning: The model inputs are of type torch.float32. It is strongly recommended to use double precision in BoTorch, as this improves both precision and stability and can help avoid numerical errors. See https://github.com/pytorch/botorch/discussions/1444\n",
      "  self._validate_tensor_args(X=transformed_X, Y=train_Y, Yvar=train_Yvar)\n"
     ]
    },
    {
     "name": "stdout",
     "output_type": "stream",
     "text": [
      "52) Best value: -1.04e+01\n"
     ]
    },
    {
     "name": "stderr",
     "output_type": "stream",
     "text": [
      "c:\\Users\\82109\\anaconda3\\envs\\botorch_ex\\lib\\site-packages\\botorch\\models\\gp_regression.py:161: UserWarning: The model inputs are of type torch.float32. It is strongly recommended to use double precision in BoTorch, as this improves both precision and stability and can help avoid numerical errors. See https://github.com/pytorch/botorch/discussions/1444\n",
      "  self._validate_tensor_args(X=transformed_X, Y=train_Y, Yvar=train_Yvar)\n",
      "c:\\Users\\82109\\anaconda3\\envs\\botorch_ex\\lib\\site-packages\\botorch\\optim\\optimize.py:362: RuntimeWarning: Optimization failed in `gen_candidates_scipy` with the following warning(s):\n",
      "[OptimizationWarning('Optimization failed within `scipy.optimize.minimize` with status 2 and message ABNORMAL_TERMINATION_IN_LNSRCH.')]\n",
      "Trying again with a new set of initial conditions.\n",
      "  warnings.warn(first_warn_msg, RuntimeWarning)\n"
     ]
    },
    {
     "name": "stdout",
     "output_type": "stream",
     "text": [
      "56) Best value: -1.02e+01\n"
     ]
    },
    {
     "name": "stderr",
     "output_type": "stream",
     "text": [
      "c:\\Users\\82109\\anaconda3\\envs\\botorch_ex\\lib\\site-packages\\botorch\\models\\gp_regression.py:161: UserWarning: The model inputs are of type torch.float32. It is strongly recommended to use double precision in BoTorch, as this improves both precision and stability and can help avoid numerical errors. See https://github.com/pytorch/botorch/discussions/1444\n",
      "  self._validate_tensor_args(X=transformed_X, Y=train_Y, Yvar=train_Yvar)\n"
     ]
    },
    {
     "name": "stdout",
     "output_type": "stream",
     "text": [
      "60) Best value: -1.02e+01\n"
     ]
    },
    {
     "name": "stderr",
     "output_type": "stream",
     "text": [
      "c:\\Users\\82109\\anaconda3\\envs\\botorch_ex\\lib\\site-packages\\botorch\\models\\gp_regression.py:161: UserWarning: The model inputs are of type torch.float32. It is strongly recommended to use double precision in BoTorch, as this improves both precision and stability and can help avoid numerical errors. See https://github.com/pytorch/botorch/discussions/1444\n",
      "  self._validate_tensor_args(X=transformed_X, Y=train_Y, Yvar=train_Yvar)\n",
      "c:\\Users\\82109\\anaconda3\\envs\\botorch_ex\\lib\\site-packages\\botorch\\optim\\initializers.py:404: BadInitialCandidatesWarning: Unable to find non-zero acquisition function values - initial conditions are being selected randomly.\n",
      "  warnings.warn(\n",
      "c:\\Users\\82109\\anaconda3\\envs\\botorch_ex\\lib\\site-packages\\botorch\\models\\gp_regression.py:161: UserWarning: The model inputs are of type torch.float32. It is strongly recommended to use double precision in BoTorch, as this improves both precision and stability and can help avoid numerical errors. See https://github.com/pytorch/botorch/discussions/1444\n",
      "  self._validate_tensor_args(X=transformed_X, Y=train_Y, Yvar=train_Yvar)\n"
     ]
    },
    {
     "name": "stdout",
     "output_type": "stream",
     "text": [
      "64) Best value: -1.02e+01\n"
     ]
    },
    {
     "name": "stderr",
     "output_type": "stream",
     "text": [
      "c:\\Users\\82109\\anaconda3\\envs\\botorch_ex\\lib\\site-packages\\botorch\\optim\\initializers.py:404: BadInitialCandidatesWarning: Unable to find non-zero acquisition function values - initial conditions are being selected randomly.\n",
      "  warnings.warn(\n",
      "c:\\Users\\82109\\anaconda3\\envs\\botorch_ex\\lib\\site-packages\\botorch\\models\\gp_regression.py:161: UserWarning: The model inputs are of type torch.float32. It is strongly recommended to use double precision in BoTorch, as this improves both precision and stability and can help avoid numerical errors. See https://github.com/pytorch/botorch/discussions/1444\n",
      "  self._validate_tensor_args(X=transformed_X, Y=train_Y, Yvar=train_Yvar)\n"
     ]
    },
    {
     "name": "stdout",
     "output_type": "stream",
     "text": [
      "68) Best value: -1.02e+01\n"
     ]
    },
    {
     "name": "stderr",
     "output_type": "stream",
     "text": [
      "c:\\Users\\82109\\anaconda3\\envs\\botorch_ex\\lib\\site-packages\\botorch\\optim\\initializers.py:404: BadInitialCandidatesWarning: Unable to find non-zero acquisition function values - initial conditions are being selected randomly.\n",
      "  warnings.warn(\n",
      "c:\\Users\\82109\\anaconda3\\envs\\botorch_ex\\lib\\site-packages\\botorch\\models\\gp_regression.py:161: UserWarning: The model inputs are of type torch.float32. It is strongly recommended to use double precision in BoTorch, as this improves both precision and stability and can help avoid numerical errors. See https://github.com/pytorch/botorch/discussions/1444\n",
      "  self._validate_tensor_args(X=transformed_X, Y=train_Y, Yvar=train_Yvar)\n"
     ]
    },
    {
     "name": "stdout",
     "output_type": "stream",
     "text": [
      "72) Best value: -1.02e+01\n",
      "76) Best value: -9.99e+00\n"
     ]
    },
    {
     "name": "stderr",
     "output_type": "stream",
     "text": [
      "c:\\Users\\82109\\anaconda3\\envs\\botorch_ex\\lib\\site-packages\\botorch\\models\\gp_regression.py:161: UserWarning: The model inputs are of type torch.float32. It is strongly recommended to use double precision in BoTorch, as this improves both precision and stability and can help avoid numerical errors. See https://github.com/pytorch/botorch/discussions/1444\n",
      "  self._validate_tensor_args(X=transformed_X, Y=train_Y, Yvar=train_Yvar)\n",
      "c:\\Users\\82109\\anaconda3\\envs\\botorch_ex\\lib\\site-packages\\botorch\\optim\\initializers.py:404: BadInitialCandidatesWarning: Unable to find non-zero acquisition function values - initial conditions are being selected randomly.\n",
      "  warnings.warn(\n",
      "c:\\Users\\82109\\anaconda3\\envs\\botorch_ex\\lib\\site-packages\\botorch\\models\\gp_regression.py:161: UserWarning: The model inputs are of type torch.float32. It is strongly recommended to use double precision in BoTorch, as this improves both precision and stability and can help avoid numerical errors. See https://github.com/pytorch/botorch/discussions/1444\n",
      "  self._validate_tensor_args(X=transformed_X, Y=train_Y, Yvar=train_Yvar)\n"
     ]
    },
    {
     "name": "stdout",
     "output_type": "stream",
     "text": [
      "80) Best value: -9.99e+00\n"
     ]
    },
    {
     "name": "stderr",
     "output_type": "stream",
     "text": [
      "c:\\Users\\82109\\anaconda3\\envs\\botorch_ex\\lib\\site-packages\\botorch\\optim\\initializers.py:404: BadInitialCandidatesWarning: Unable to find non-zero acquisition function values - initial conditions are being selected randomly.\n",
      "  warnings.warn(\n",
      "c:\\Users\\82109\\anaconda3\\envs\\botorch_ex\\lib\\site-packages\\botorch\\models\\gp_regression.py:161: UserWarning: The model inputs are of type torch.float32. It is strongly recommended to use double precision in BoTorch, as this improves both precision and stability and can help avoid numerical errors. See https://github.com/pytorch/botorch/discussions/1444\n",
      "  self._validate_tensor_args(X=transformed_X, Y=train_Y, Yvar=train_Yvar)\n"
     ]
    },
    {
     "name": "stdout",
     "output_type": "stream",
     "text": [
      "84) Best value: -9.99e+00\n"
     ]
    },
    {
     "name": "stderr",
     "output_type": "stream",
     "text": [
      "c:\\Users\\82109\\anaconda3\\envs\\botorch_ex\\lib\\site-packages\\botorch\\optim\\initializers.py:404: BadInitialCandidatesWarning: Unable to find non-zero acquisition function values - initial conditions are being selected randomly.\n",
      "  warnings.warn(\n",
      "c:\\Users\\82109\\anaconda3\\envs\\botorch_ex\\lib\\site-packages\\botorch\\models\\gp_regression.py:161: UserWarning: The model inputs are of type torch.float32. It is strongly recommended to use double precision in BoTorch, as this improves both precision and stability and can help avoid numerical errors. See https://github.com/pytorch/botorch/discussions/1444\n",
      "  self._validate_tensor_args(X=transformed_X, Y=train_Y, Yvar=train_Yvar)\n"
     ]
    },
    {
     "name": "stdout",
     "output_type": "stream",
     "text": [
      "88) Best value: -9.99e+00\n",
      "92) Best value: -9.19e+00\n"
     ]
    },
    {
     "name": "stderr",
     "output_type": "stream",
     "text": [
      "c:\\Users\\82109\\anaconda3\\envs\\botorch_ex\\lib\\site-packages\\botorch\\models\\gp_regression.py:161: UserWarning: The model inputs are of type torch.float32. It is strongly recommended to use double precision in BoTorch, as this improves both precision and stability and can help avoid numerical errors. See https://github.com/pytorch/botorch/discussions/1444\n",
      "  self._validate_tensor_args(X=transformed_X, Y=train_Y, Yvar=train_Yvar)\n",
      "c:\\Users\\82109\\anaconda3\\envs\\botorch_ex\\lib\\site-packages\\botorch\\optim\\fit.py:102: OptimizationWarning: `scipy_minimize` terminated with status 3, displaying original message from `scipy.optimize.minimize`: ABNORMAL_TERMINATION_IN_LNSRCH\n",
      "  warn(\n",
      "c:\\Users\\82109\\anaconda3\\envs\\botorch_ex\\lib\\site-packages\\botorch\\optim\\initializers.py:404: BadInitialCandidatesWarning: Unable to find non-zero acquisition function values - initial conditions are being selected randomly.\n",
      "  warnings.warn(\n",
      "c:\\Users\\82109\\anaconda3\\envs\\botorch_ex\\lib\\site-packages\\botorch\\models\\gp_regression.py:161: UserWarning: The model inputs are of type torch.float32. It is strongly recommended to use double precision in BoTorch, as this improves both precision and stability and can help avoid numerical errors. See https://github.com/pytorch/botorch/discussions/1444\n",
      "  self._validate_tensor_args(X=transformed_X, Y=train_Y, Yvar=train_Yvar)\n"
     ]
    },
    {
     "name": "stdout",
     "output_type": "stream",
     "text": [
      "96) Best value: -9.19e+00\n"
     ]
    },
    {
     "name": "stderr",
     "output_type": "stream",
     "text": [
      "c:\\Users\\82109\\anaconda3\\envs\\botorch_ex\\lib\\site-packages\\botorch\\optim\\fit.py:102: OptimizationWarning: `scipy_minimize` terminated with status 3, displaying original message from `scipy.optimize.minimize`: ABNORMAL_TERMINATION_IN_LNSRCH\n",
      "  warn(\n",
      "c:\\Users\\82109\\anaconda3\\envs\\botorch_ex\\lib\\site-packages\\botorch\\optim\\initializers.py:404: BadInitialCandidatesWarning: Unable to find non-zero acquisition function values - initial conditions are being selected randomly.\n",
      "  warnings.warn(\n",
      "c:\\Users\\82109\\anaconda3\\envs\\botorch_ex\\lib\\site-packages\\botorch\\models\\gp_regression.py:161: UserWarning: The model inputs are of type torch.float32. It is strongly recommended to use double precision in BoTorch, as this improves both precision and stability and can help avoid numerical errors. See https://github.com/pytorch/botorch/discussions/1444\n",
      "  self._validate_tensor_args(X=transformed_X, Y=train_Y, Yvar=train_Yvar)\n"
     ]
    },
    {
     "name": "stdout",
     "output_type": "stream",
     "text": [
      "100) Best value: -9.19e+00\n"
     ]
    },
    {
     "name": "stderr",
     "output_type": "stream",
     "text": [
      "c:\\Users\\82109\\anaconda3\\envs\\botorch_ex\\lib\\site-packages\\botorch\\optim\\initializers.py:404: BadInitialCandidatesWarning: Unable to find non-zero acquisition function values - initial conditions are being selected randomly.\n",
      "  warnings.warn(\n",
      "c:\\Users\\82109\\anaconda3\\envs\\botorch_ex\\lib\\site-packages\\botorch\\models\\gp_regression.py:161: UserWarning: The model inputs are of type torch.float32. It is strongly recommended to use double precision in BoTorch, as this improves both precision and stability and can help avoid numerical errors. See https://github.com/pytorch/botorch/discussions/1444\n",
      "  self._validate_tensor_args(X=transformed_X, Y=train_Y, Yvar=train_Yvar)\n"
     ]
    },
    {
     "name": "stdout",
     "output_type": "stream",
     "text": [
      "104) Best value: -9.19e+00\n",
      "108) Best value: -8.86e+00\n"
     ]
    },
    {
     "name": "stderr",
     "output_type": "stream",
     "text": [
      "c:\\Users\\82109\\anaconda3\\envs\\botorch_ex\\lib\\site-packages\\botorch\\models\\gp_regression.py:161: UserWarning: The model inputs are of type torch.float32. It is strongly recommended to use double precision in BoTorch, as this improves both precision and stability and can help avoid numerical errors. See https://github.com/pytorch/botorch/discussions/1444\n",
      "  self._validate_tensor_args(X=transformed_X, Y=train_Y, Yvar=train_Yvar)\n",
      "c:\\Users\\82109\\anaconda3\\envs\\botorch_ex\\lib\\site-packages\\botorch\\optim\\initializers.py:404: BadInitialCandidatesWarning: Unable to find non-zero acquisition function values - initial conditions are being selected randomly.\n",
      "  warnings.warn(\n",
      "c:\\Users\\82109\\anaconda3\\envs\\botorch_ex\\lib\\site-packages\\botorch\\models\\gp_regression.py:161: UserWarning: The model inputs are of type torch.float32. It is strongly recommended to use double precision in BoTorch, as this improves both precision and stability and can help avoid numerical errors. See https://github.com/pytorch/botorch/discussions/1444\n",
      "  self._validate_tensor_args(X=transformed_X, Y=train_Y, Yvar=train_Yvar)\n"
     ]
    },
    {
     "name": "stdout",
     "output_type": "stream",
     "text": [
      "112) Best value: -8.86e+00\n"
     ]
    },
    {
     "name": "stderr",
     "output_type": "stream",
     "text": [
      "c:\\Users\\82109\\anaconda3\\envs\\botorch_ex\\lib\\site-packages\\botorch\\optim\\initializers.py:404: BadInitialCandidatesWarning: Unable to find non-zero acquisition function values - initial conditions are being selected randomly.\n",
      "  warnings.warn(\n",
      "c:\\Users\\82109\\anaconda3\\envs\\botorch_ex\\lib\\site-packages\\botorch\\models\\gp_regression.py:161: UserWarning: The model inputs are of type torch.float32. It is strongly recommended to use double precision in BoTorch, as this improves both precision and stability and can help avoid numerical errors. See https://github.com/pytorch/botorch/discussions/1444\n",
      "  self._validate_tensor_args(X=transformed_X, Y=train_Y, Yvar=train_Yvar)\n"
     ]
    },
    {
     "name": "stdout",
     "output_type": "stream",
     "text": [
      "116) Best value: -8.86e+00\n"
     ]
    },
    {
     "name": "stderr",
     "output_type": "stream",
     "text": [
      "c:\\Users\\82109\\anaconda3\\envs\\botorch_ex\\lib\\site-packages\\botorch\\optim\\initializers.py:404: BadInitialCandidatesWarning: Unable to find non-zero acquisition function values - initial conditions are being selected randomly.\n",
      "  warnings.warn(\n",
      "c:\\Users\\82109\\anaconda3\\envs\\botorch_ex\\lib\\site-packages\\botorch\\models\\gp_regression.py:161: UserWarning: The model inputs are of type torch.float32. It is strongly recommended to use double precision in BoTorch, as this improves both precision and stability and can help avoid numerical errors. See https://github.com/pytorch/botorch/discussions/1444\n",
      "  self._validate_tensor_args(X=transformed_X, Y=train_Y, Yvar=train_Yvar)\n"
     ]
    },
    {
     "name": "stdout",
     "output_type": "stream",
     "text": [
      "120) Best value: -8.86e+00\n"
     ]
    },
    {
     "name": "stderr",
     "output_type": "stream",
     "text": [
      "c:\\Users\\82109\\anaconda3\\envs\\botorch_ex\\lib\\site-packages\\botorch\\optim\\initializers.py:404: BadInitialCandidatesWarning: Unable to find non-zero acquisition function values - initial conditions are being selected randomly.\n",
      "  warnings.warn(\n",
      "c:\\Users\\82109\\anaconda3\\envs\\botorch_ex\\lib\\site-packages\\botorch\\models\\gp_regression.py:161: UserWarning: The model inputs are of type torch.float32. It is strongly recommended to use double precision in BoTorch, as this improves both precision and stability and can help avoid numerical errors. See https://github.com/pytorch/botorch/discussions/1444\n",
      "  self._validate_tensor_args(X=transformed_X, Y=train_Y, Yvar=train_Yvar)\n"
     ]
    },
    {
     "name": "stdout",
     "output_type": "stream",
     "text": [
      "124) Best value: -8.86e+00\n"
     ]
    },
    {
     "name": "stderr",
     "output_type": "stream",
     "text": [
      "c:\\Users\\82109\\anaconda3\\envs\\botorch_ex\\lib\\site-packages\\botorch\\optim\\fit.py:102: OptimizationWarning: `scipy_minimize` terminated with status 3, displaying original message from `scipy.optimize.minimize`: ABNORMAL_TERMINATION_IN_LNSRCH\n",
      "  warn(\n",
      "c:\\Users\\82109\\anaconda3\\envs\\botorch_ex\\lib\\site-packages\\botorch\\optim\\initializers.py:404: BadInitialCandidatesWarning: Unable to find non-zero acquisition function values - initial conditions are being selected randomly.\n",
      "  warnings.warn(\n",
      "c:\\Users\\82109\\anaconda3\\envs\\botorch_ex\\lib\\site-packages\\botorch\\models\\gp_regression.py:161: UserWarning: The model inputs are of type torch.float32. It is strongly recommended to use double precision in BoTorch, as this improves both precision and stability and can help avoid numerical errors. See https://github.com/pytorch/botorch/discussions/1444\n",
      "  self._validate_tensor_args(X=transformed_X, Y=train_Y, Yvar=train_Yvar)\n"
     ]
    },
    {
     "name": "stdout",
     "output_type": "stream",
     "text": [
      "128) Best value: -8.86e+00\n"
     ]
    },
    {
     "name": "stderr",
     "output_type": "stream",
     "text": [
      "c:\\Users\\82109\\anaconda3\\envs\\botorch_ex\\lib\\site-packages\\botorch\\optim\\fit.py:102: OptimizationWarning: `scipy_minimize` terminated with status 3, displaying original message from `scipy.optimize.minimize`: ABNORMAL_TERMINATION_IN_LNSRCH\n",
      "  warn(\n"
     ]
    },
    {
     "name": "stdout",
     "output_type": "stream",
     "text": [
      "132) Best value: -5.87e+00\n"
     ]
    },
    {
     "name": "stderr",
     "output_type": "stream",
     "text": [
      "c:\\Users\\82109\\anaconda3\\envs\\botorch_ex\\lib\\site-packages\\botorch\\models\\gp_regression.py:161: UserWarning: The model inputs are of type torch.float32. It is strongly recommended to use double precision in BoTorch, as this improves both precision and stability and can help avoid numerical errors. See https://github.com/pytorch/botorch/discussions/1444\n",
      "  self._validate_tensor_args(X=transformed_X, Y=train_Y, Yvar=train_Yvar)\n",
      "c:\\Users\\82109\\anaconda3\\envs\\botorch_ex\\lib\\site-packages\\botorch\\optim\\initializers.py:404: BadInitialCandidatesWarning: Unable to find non-zero acquisition function values - initial conditions are being selected randomly.\n",
      "  warnings.warn(\n",
      "c:\\Users\\82109\\anaconda3\\envs\\botorch_ex\\lib\\site-packages\\botorch\\models\\gp_regression.py:161: UserWarning: The model inputs are of type torch.float32. It is strongly recommended to use double precision in BoTorch, as this improves both precision and stability and can help avoid numerical errors. See https://github.com/pytorch/botorch/discussions/1444\n",
      "  self._validate_tensor_args(X=transformed_X, Y=train_Y, Yvar=train_Yvar)\n"
     ]
    },
    {
     "name": "stdout",
     "output_type": "stream",
     "text": [
      "136) Best value: -5.87e+00\n"
     ]
    },
    {
     "name": "stderr",
     "output_type": "stream",
     "text": [
      "c:\\Users\\82109\\anaconda3\\envs\\botorch_ex\\lib\\site-packages\\botorch\\optim\\initializers.py:404: BadInitialCandidatesWarning: Unable to find non-zero acquisition function values - initial conditions are being selected randomly.\n",
      "  warnings.warn(\n",
      "c:\\Users\\82109\\anaconda3\\envs\\botorch_ex\\lib\\site-packages\\botorch\\models\\gp_regression.py:161: UserWarning: The model inputs are of type torch.float32. It is strongly recommended to use double precision in BoTorch, as this improves both precision and stability and can help avoid numerical errors. See https://github.com/pytorch/botorch/discussions/1444\n",
      "  self._validate_tensor_args(X=transformed_X, Y=train_Y, Yvar=train_Yvar)\n"
     ]
    },
    {
     "name": "stdout",
     "output_type": "stream",
     "text": [
      "140) Best value: -5.87e+00\n"
     ]
    },
    {
     "name": "stderr",
     "output_type": "stream",
     "text": [
      "c:\\Users\\82109\\anaconda3\\envs\\botorch_ex\\lib\\site-packages\\botorch\\optim\\initializers.py:404: BadInitialCandidatesWarning: Unable to find non-zero acquisition function values - initial conditions are being selected randomly.\n",
      "  warnings.warn(\n",
      "c:\\Users\\82109\\anaconda3\\envs\\botorch_ex\\lib\\site-packages\\botorch\\models\\gp_regression.py:161: UserWarning: The model inputs are of type torch.float32. It is strongly recommended to use double precision in BoTorch, as this improves both precision and stability and can help avoid numerical errors. See https://github.com/pytorch/botorch/discussions/1444\n",
      "  self._validate_tensor_args(X=transformed_X, Y=train_Y, Yvar=train_Yvar)\n"
     ]
    },
    {
     "name": "stdout",
     "output_type": "stream",
     "text": [
      "144) Best value: -5.87e+00\n"
     ]
    },
    {
     "name": "stderr",
     "output_type": "stream",
     "text": [
      "c:\\Users\\82109\\anaconda3\\envs\\botorch_ex\\lib\\site-packages\\botorch\\optim\\initializers.py:404: BadInitialCandidatesWarning: Unable to find non-zero acquisition function values - initial conditions are being selected randomly.\n",
      "  warnings.warn(\n",
      "c:\\Users\\82109\\anaconda3\\envs\\botorch_ex\\lib\\site-packages\\botorch\\models\\gp_regression.py:161: UserWarning: The model inputs are of type torch.float32. It is strongly recommended to use double precision in BoTorch, as this improves both precision and stability and can help avoid numerical errors. See https://github.com/pytorch/botorch/discussions/1444\n",
      "  self._validate_tensor_args(X=transformed_X, Y=train_Y, Yvar=train_Yvar)\n"
     ]
    },
    {
     "name": "stdout",
     "output_type": "stream",
     "text": [
      "148) Best value: -5.87e+00\n"
     ]
    },
    {
     "name": "stderr",
     "output_type": "stream",
     "text": [
      "c:\\Users\\82109\\anaconda3\\envs\\botorch_ex\\lib\\site-packages\\botorch\\optim\\initializers.py:404: BadInitialCandidatesWarning: Unable to find non-zero acquisition function values - initial conditions are being selected randomly.\n",
      "  warnings.warn(\n",
      "c:\\Users\\82109\\anaconda3\\envs\\botorch_ex\\lib\\site-packages\\botorch\\models\\gp_regression.py:161: UserWarning: The model inputs are of type torch.float32. It is strongly recommended to use double precision in BoTorch, as this improves both precision and stability and can help avoid numerical errors. See https://github.com/pytorch/botorch/discussions/1444\n",
      "  self._validate_tensor_args(X=transformed_X, Y=train_Y, Yvar=train_Yvar)\n"
     ]
    },
    {
     "name": "stdout",
     "output_type": "stream",
     "text": [
      "152) Best value: -5.87e+00\n"
     ]
    },
    {
     "name": "stderr",
     "output_type": "stream",
     "text": [
      "c:\\Users\\82109\\anaconda3\\envs\\botorch_ex\\lib\\site-packages\\botorch\\optim\\initializers.py:404: BadInitialCandidatesWarning: Unable to find non-zero acquisition function values - initial conditions are being selected randomly.\n",
      "  warnings.warn(\n",
      "c:\\Users\\82109\\anaconda3\\envs\\botorch_ex\\lib\\site-packages\\botorch\\models\\gp_regression.py:161: UserWarning: The model inputs are of type torch.float32. It is strongly recommended to use double precision in BoTorch, as this improves both precision and stability and can help avoid numerical errors. See https://github.com/pytorch/botorch/discussions/1444\n",
      "  self._validate_tensor_args(X=transformed_X, Y=train_Y, Yvar=train_Yvar)\n"
     ]
    },
    {
     "name": "stdout",
     "output_type": "stream",
     "text": [
      "156) Best value: -5.87e+00\n"
     ]
    },
    {
     "name": "stderr",
     "output_type": "stream",
     "text": [
      "c:\\Users\\82109\\anaconda3\\envs\\botorch_ex\\lib\\site-packages\\botorch\\optim\\initializers.py:404: BadInitialCandidatesWarning: Unable to find non-zero acquisition function values - initial conditions are being selected randomly.\n",
      "  warnings.warn(\n",
      "c:\\Users\\82109\\anaconda3\\envs\\botorch_ex\\lib\\site-packages\\botorch\\models\\gp_regression.py:161: UserWarning: The model inputs are of type torch.float32. It is strongly recommended to use double precision in BoTorch, as this improves both precision and stability and can help avoid numerical errors. See https://github.com/pytorch/botorch/discussions/1444\n",
      "  self._validate_tensor_args(X=transformed_X, Y=train_Y, Yvar=train_Yvar)\n"
     ]
    },
    {
     "name": "stdout",
     "output_type": "stream",
     "text": [
      "160) Best value: -5.87e+00\n"
     ]
    },
    {
     "name": "stderr",
     "output_type": "stream",
     "text": [
      "c:\\Users\\82109\\anaconda3\\envs\\botorch_ex\\lib\\site-packages\\botorch\\optim\\initializers.py:404: BadInitialCandidatesWarning: Unable to find non-zero acquisition function values - initial conditions are being selected randomly.\n",
      "  warnings.warn(\n",
      "c:\\Users\\82109\\anaconda3\\envs\\botorch_ex\\lib\\site-packages\\botorch\\models\\gp_regression.py:161: UserWarning: The model inputs are of type torch.float32. It is strongly recommended to use double precision in BoTorch, as this improves both precision and stability and can help avoid numerical errors. See https://github.com/pytorch/botorch/discussions/1444\n",
      "  self._validate_tensor_args(X=transformed_X, Y=train_Y, Yvar=train_Yvar)\n"
     ]
    },
    {
     "name": "stdout",
     "output_type": "stream",
     "text": [
      "164) Best value: -5.87e+00\n"
     ]
    },
    {
     "name": "stderr",
     "output_type": "stream",
     "text": [
      "c:\\Users\\82109\\anaconda3\\envs\\botorch_ex\\lib\\site-packages\\botorch\\optim\\initializers.py:404: BadInitialCandidatesWarning: Unable to find non-zero acquisition function values - initial conditions are being selected randomly.\n",
      "  warnings.warn(\n",
      "c:\\Users\\82109\\anaconda3\\envs\\botorch_ex\\lib\\site-packages\\botorch\\models\\gp_regression.py:161: UserWarning: The model inputs are of type torch.float32. It is strongly recommended to use double precision in BoTorch, as this improves both precision and stability and can help avoid numerical errors. See https://github.com/pytorch/botorch/discussions/1444\n",
      "  self._validate_tensor_args(X=transformed_X, Y=train_Y, Yvar=train_Yvar)\n"
     ]
    },
    {
     "name": "stdout",
     "output_type": "stream",
     "text": [
      "168) Best value: -5.87e+00\n"
     ]
    },
    {
     "name": "stderr",
     "output_type": "stream",
     "text": [
      "c:\\Users\\82109\\anaconda3\\envs\\botorch_ex\\lib\\site-packages\\botorch\\optim\\initializers.py:404: BadInitialCandidatesWarning: Unable to find non-zero acquisition function values - initial conditions are being selected randomly.\n",
      "  warnings.warn(\n",
      "c:\\Users\\82109\\anaconda3\\envs\\botorch_ex\\lib\\site-packages\\botorch\\models\\gp_regression.py:161: UserWarning: The model inputs are of type torch.float32. It is strongly recommended to use double precision in BoTorch, as this improves both precision and stability and can help avoid numerical errors. See https://github.com/pytorch/botorch/discussions/1444\n",
      "  self._validate_tensor_args(X=transformed_X, Y=train_Y, Yvar=train_Yvar)\n"
     ]
    },
    {
     "name": "stdout",
     "output_type": "stream",
     "text": [
      "172) Best value: -5.87e+00\n"
     ]
    },
    {
     "name": "stderr",
     "output_type": "stream",
     "text": [
      "c:\\Users\\82109\\anaconda3\\envs\\botorch_ex\\lib\\site-packages\\botorch\\optim\\initializers.py:404: BadInitialCandidatesWarning: Unable to find non-zero acquisition function values - initial conditions are being selected randomly.\n",
      "  warnings.warn(\n",
      "c:\\Users\\82109\\anaconda3\\envs\\botorch_ex\\lib\\site-packages\\botorch\\models\\gp_regression.py:161: UserWarning: The model inputs are of type torch.float32. It is strongly recommended to use double precision in BoTorch, as this improves both precision and stability and can help avoid numerical errors. See https://github.com/pytorch/botorch/discussions/1444\n",
      "  self._validate_tensor_args(X=transformed_X, Y=train_Y, Yvar=train_Yvar)\n"
     ]
    },
    {
     "name": "stdout",
     "output_type": "stream",
     "text": [
      "176) Best value: -5.87e+00\n"
     ]
    },
    {
     "name": "stderr",
     "output_type": "stream",
     "text": [
      "c:\\Users\\82109\\anaconda3\\envs\\botorch_ex\\lib\\site-packages\\botorch\\optim\\initializers.py:404: BadInitialCandidatesWarning: Unable to find non-zero acquisition function values - initial conditions are being selected randomly.\n",
      "  warnings.warn(\n",
      "c:\\Users\\82109\\anaconda3\\envs\\botorch_ex\\lib\\site-packages\\botorch\\models\\gp_regression.py:161: UserWarning: The model inputs are of type torch.float32. It is strongly recommended to use double precision in BoTorch, as this improves both precision and stability and can help avoid numerical errors. See https://github.com/pytorch/botorch/discussions/1444\n",
      "  self._validate_tensor_args(X=transformed_X, Y=train_Y, Yvar=train_Yvar)\n"
     ]
    },
    {
     "name": "stdout",
     "output_type": "stream",
     "text": [
      "180) Best value: -5.87e+00\n"
     ]
    },
    {
     "name": "stderr",
     "output_type": "stream",
     "text": [
      "c:\\Users\\82109\\anaconda3\\envs\\botorch_ex\\lib\\site-packages\\botorch\\optim\\initializers.py:404: BadInitialCandidatesWarning: Unable to find non-zero acquisition function values - initial conditions are being selected randomly.\n",
      "  warnings.warn(\n",
      "c:\\Users\\82109\\anaconda3\\envs\\botorch_ex\\lib\\site-packages\\botorch\\models\\gp_regression.py:161: UserWarning: The model inputs are of type torch.float32. It is strongly recommended to use double precision in BoTorch, as this improves both precision and stability and can help avoid numerical errors. See https://github.com/pytorch/botorch/discussions/1444\n",
      "  self._validate_tensor_args(X=transformed_X, Y=train_Y, Yvar=train_Yvar)\n"
     ]
    },
    {
     "name": "stdout",
     "output_type": "stream",
     "text": [
      "184) Best value: -5.87e+00\n"
     ]
    },
    {
     "name": "stderr",
     "output_type": "stream",
     "text": [
      "c:\\Users\\82109\\anaconda3\\envs\\botorch_ex\\lib\\site-packages\\botorch\\optim\\initializers.py:404: BadInitialCandidatesWarning: Unable to find non-zero acquisition function values - initial conditions are being selected randomly.\n",
      "  warnings.warn(\n",
      "c:\\Users\\82109\\anaconda3\\envs\\botorch_ex\\lib\\site-packages\\botorch\\models\\gp_regression.py:161: UserWarning: The model inputs are of type torch.float32. It is strongly recommended to use double precision in BoTorch, as this improves both precision and stability and can help avoid numerical errors. See https://github.com/pytorch/botorch/discussions/1444\n",
      "  self._validate_tensor_args(X=transformed_X, Y=train_Y, Yvar=train_Yvar)\n"
     ]
    },
    {
     "name": "stdout",
     "output_type": "stream",
     "text": [
      "188) Best value: -5.87e+00\n"
     ]
    },
    {
     "name": "stderr",
     "output_type": "stream",
     "text": [
      "c:\\Users\\82109\\anaconda3\\envs\\botorch_ex\\lib\\site-packages\\botorch\\optim\\initializers.py:404: BadInitialCandidatesWarning: Unable to find non-zero acquisition function values - initial conditions are being selected randomly.\n",
      "  warnings.warn(\n",
      "c:\\Users\\82109\\anaconda3\\envs\\botorch_ex\\lib\\site-packages\\botorch\\models\\gp_regression.py:161: UserWarning: The model inputs are of type torch.float32. It is strongly recommended to use double precision in BoTorch, as this improves both precision and stability and can help avoid numerical errors. See https://github.com/pytorch/botorch/discussions/1444\n",
      "  self._validate_tensor_args(X=transformed_X, Y=train_Y, Yvar=train_Yvar)\n"
     ]
    },
    {
     "name": "stdout",
     "output_type": "stream",
     "text": [
      "192) Best value: -5.87e+00\n"
     ]
    },
    {
     "name": "stderr",
     "output_type": "stream",
     "text": [
      "c:\\Users\\82109\\anaconda3\\envs\\botorch_ex\\lib\\site-packages\\botorch\\optim\\initializers.py:404: BadInitialCandidatesWarning: Unable to find non-zero acquisition function values - initial conditions are being selected randomly.\n",
      "  warnings.warn(\n",
      "c:\\Users\\82109\\anaconda3\\envs\\botorch_ex\\lib\\site-packages\\botorch\\models\\gp_regression.py:161: UserWarning: The model inputs are of type torch.float32. It is strongly recommended to use double precision in BoTorch, as this improves both precision and stability and can help avoid numerical errors. See https://github.com/pytorch/botorch/discussions/1444\n",
      "  self._validate_tensor_args(X=transformed_X, Y=train_Y, Yvar=train_Yvar)\n"
     ]
    },
    {
     "name": "stdout",
     "output_type": "stream",
     "text": [
      "196) Best value: -5.87e+00\n"
     ]
    },
    {
     "name": "stderr",
     "output_type": "stream",
     "text": [
      "c:\\Users\\82109\\anaconda3\\envs\\botorch_ex\\lib\\site-packages\\botorch\\optim\\initializers.py:404: BadInitialCandidatesWarning: Unable to find non-zero acquisition function values - initial conditions are being selected randomly.\n",
      "  warnings.warn(\n",
      "c:\\Users\\82109\\anaconda3\\envs\\botorch_ex\\lib\\site-packages\\botorch\\models\\gp_regression.py:161: UserWarning: The model inputs are of type torch.float32. It is strongly recommended to use double precision in BoTorch, as this improves both precision and stability and can help avoid numerical errors. See https://github.com/pytorch/botorch/discussions/1444\n",
      "  self._validate_tensor_args(X=transformed_X, Y=train_Y, Yvar=train_Yvar)\n"
     ]
    },
    {
     "name": "stdout",
     "output_type": "stream",
     "text": [
      "200) Best value: -5.87e+00\n"
     ]
    },
    {
     "name": "stderr",
     "output_type": "stream",
     "text": [
      "c:\\Users\\82109\\anaconda3\\envs\\botorch_ex\\lib\\site-packages\\botorch\\optim\\initializers.py:404: BadInitialCandidatesWarning: Unable to find non-zero acquisition function values - initial conditions are being selected randomly.\n",
      "  warnings.warn(\n",
      "c:\\Users\\82109\\anaconda3\\envs\\botorch_ex\\lib\\site-packages\\botorch\\models\\gp_regression.py:161: UserWarning: The model inputs are of type torch.float32. It is strongly recommended to use double precision in BoTorch, as this improves both precision and stability and can help avoid numerical errors. See https://github.com/pytorch/botorch/discussions/1444\n",
      "  self._validate_tensor_args(X=transformed_X, Y=train_Y, Yvar=train_Yvar)\n"
     ]
    },
    {
     "name": "stdout",
     "output_type": "stream",
     "text": [
      "204) Best value: -5.87e+00\n"
     ]
    },
    {
     "name": "stderr",
     "output_type": "stream",
     "text": [
      "c:\\Users\\82109\\anaconda3\\envs\\botorch_ex\\lib\\site-packages\\botorch\\optim\\initializers.py:404: BadInitialCandidatesWarning: Unable to find non-zero acquisition function values - initial conditions are being selected randomly.\n",
      "  warnings.warn(\n",
      "c:\\Users\\82109\\anaconda3\\envs\\botorch_ex\\lib\\site-packages\\botorch\\models\\gp_regression.py:161: UserWarning: The model inputs are of type torch.float32. It is strongly recommended to use double precision in BoTorch, as this improves both precision and stability and can help avoid numerical errors. See https://github.com/pytorch/botorch/discussions/1444\n",
      "  self._validate_tensor_args(X=transformed_X, Y=train_Y, Yvar=train_Yvar)\n"
     ]
    },
    {
     "name": "stdout",
     "output_type": "stream",
     "text": [
      "208) Best value: -5.87e+00\n"
     ]
    },
    {
     "name": "stderr",
     "output_type": "stream",
     "text": [
      "c:\\Users\\82109\\anaconda3\\envs\\botorch_ex\\lib\\site-packages\\botorch\\optim\\fit.py:102: OptimizationWarning: `scipy_minimize` terminated with status 3, displaying original message from `scipy.optimize.minimize`: ABNORMAL_TERMINATION_IN_LNSRCH\n",
      "  warn(\n",
      "c:\\Users\\82109\\anaconda3\\envs\\botorch_ex\\lib\\site-packages\\botorch\\optim\\initializers.py:404: BadInitialCandidatesWarning: Unable to find non-zero acquisition function values - initial conditions are being selected randomly.\n",
      "  warnings.warn(\n",
      "c:\\Users\\82109\\anaconda3\\envs\\botorch_ex\\lib\\site-packages\\botorch\\models\\gp_regression.py:161: UserWarning: The model inputs are of type torch.float32. It is strongly recommended to use double precision in BoTorch, as this improves both precision and stability and can help avoid numerical errors. See https://github.com/pytorch/botorch/discussions/1444\n",
      "  self._validate_tensor_args(X=transformed_X, Y=train_Y, Yvar=train_Yvar)\n"
     ]
    },
    {
     "name": "stdout",
     "output_type": "stream",
     "text": [
      "212) Best value: -5.87e+00\n"
     ]
    },
    {
     "name": "stderr",
     "output_type": "stream",
     "text": [
      "c:\\Users\\82109\\anaconda3\\envs\\botorch_ex\\lib\\site-packages\\botorch\\optim\\initializers.py:404: BadInitialCandidatesWarning: Unable to find non-zero acquisition function values - initial conditions are being selected randomly.\n",
      "  warnings.warn(\n",
      "c:\\Users\\82109\\anaconda3\\envs\\botorch_ex\\lib\\site-packages\\botorch\\models\\gp_regression.py:161: UserWarning: The model inputs are of type torch.float32. It is strongly recommended to use double precision in BoTorch, as this improves both precision and stability and can help avoid numerical errors. See https://github.com/pytorch/botorch/discussions/1444\n",
      "  self._validate_tensor_args(X=transformed_X, Y=train_Y, Yvar=train_Yvar)\n"
     ]
    },
    {
     "name": "stdout",
     "output_type": "stream",
     "text": [
      "216) Best value: -5.87e+00\n"
     ]
    },
    {
     "name": "stderr",
     "output_type": "stream",
     "text": [
      "c:\\Users\\82109\\anaconda3\\envs\\botorch_ex\\lib\\site-packages\\botorch\\optim\\fit.py:102: OptimizationWarning: `scipy_minimize` terminated with status 3, displaying original message from `scipy.optimize.minimize`: ABNORMAL_TERMINATION_IN_LNSRCH\n",
      "  warn(\n",
      "c:\\Users\\82109\\anaconda3\\envs\\botorch_ex\\lib\\site-packages\\botorch\\optim\\initializers.py:404: BadInitialCandidatesWarning: Unable to find non-zero acquisition function values - initial conditions are being selected randomly.\n",
      "  warnings.warn(\n",
      "c:\\Users\\82109\\anaconda3\\envs\\botorch_ex\\lib\\site-packages\\botorch\\models\\gp_regression.py:161: UserWarning: The model inputs are of type torch.float32. It is strongly recommended to use double precision in BoTorch, as this improves both precision and stability and can help avoid numerical errors. See https://github.com/pytorch/botorch/discussions/1444\n",
      "  self._validate_tensor_args(X=transformed_X, Y=train_Y, Yvar=train_Yvar)\n"
     ]
    },
    {
     "name": "stdout",
     "output_type": "stream",
     "text": [
      "220) Best value: -5.87e+00\n"
     ]
    },
    {
     "name": "stderr",
     "output_type": "stream",
     "text": [
      "c:\\Users\\82109\\anaconda3\\envs\\botorch_ex\\lib\\site-packages\\botorch\\optim\\initializers.py:404: BadInitialCandidatesWarning: Unable to find non-zero acquisition function values - initial conditions are being selected randomly.\n",
      "  warnings.warn(\n",
      "c:\\Users\\82109\\anaconda3\\envs\\botorch_ex\\lib\\site-packages\\botorch\\models\\gp_regression.py:161: UserWarning: The model inputs are of type torch.float32. It is strongly recommended to use double precision in BoTorch, as this improves both precision and stability and can help avoid numerical errors. See https://github.com/pytorch/botorch/discussions/1444\n",
      "  self._validate_tensor_args(X=transformed_X, Y=train_Y, Yvar=train_Yvar)\n"
     ]
    },
    {
     "name": "stdout",
     "output_type": "stream",
     "text": [
      "224) Best value: -5.87e+00\n"
     ]
    },
    {
     "name": "stderr",
     "output_type": "stream",
     "text": [
      "c:\\Users\\82109\\anaconda3\\envs\\botorch_ex\\lib\\site-packages\\botorch\\optim\\initializers.py:404: BadInitialCandidatesWarning: Unable to find non-zero acquisition function values - initial conditions are being selected randomly.\n",
      "  warnings.warn(\n",
      "c:\\Users\\82109\\anaconda3\\envs\\botorch_ex\\lib\\site-packages\\botorch\\models\\gp_regression.py:161: UserWarning: The model inputs are of type torch.float32. It is strongly recommended to use double precision in BoTorch, as this improves both precision and stability and can help avoid numerical errors. See https://github.com/pytorch/botorch/discussions/1444\n",
      "  self._validate_tensor_args(X=transformed_X, Y=train_Y, Yvar=train_Yvar)\n"
     ]
    },
    {
     "name": "stdout",
     "output_type": "stream",
     "text": [
      "228) Best value: -5.87e+00\n"
     ]
    },
    {
     "name": "stderr",
     "output_type": "stream",
     "text": [
      "c:\\Users\\82109\\anaconda3\\envs\\botorch_ex\\lib\\site-packages\\botorch\\optim\\initializers.py:404: BadInitialCandidatesWarning: Unable to find non-zero acquisition function values - initial conditions are being selected randomly.\n",
      "  warnings.warn(\n",
      "c:\\Users\\82109\\anaconda3\\envs\\botorch_ex\\lib\\site-packages\\botorch\\models\\gp_regression.py:161: UserWarning: The model inputs are of type torch.float32. It is strongly recommended to use double precision in BoTorch, as this improves both precision and stability and can help avoid numerical errors. See https://github.com/pytorch/botorch/discussions/1444\n",
      "  self._validate_tensor_args(X=transformed_X, Y=train_Y, Yvar=train_Yvar)\n"
     ]
    },
    {
     "name": "stdout",
     "output_type": "stream",
     "text": [
      "232) Best value: -5.87e+00\n"
     ]
    },
    {
     "name": "stderr",
     "output_type": "stream",
     "text": [
      "c:\\Users\\82109\\anaconda3\\envs\\botorch_ex\\lib\\site-packages\\botorch\\optim\\initializers.py:404: BadInitialCandidatesWarning: Unable to find non-zero acquisition function values - initial conditions are being selected randomly.\n",
      "  warnings.warn(\n",
      "c:\\Users\\82109\\anaconda3\\envs\\botorch_ex\\lib\\site-packages\\botorch\\models\\gp_regression.py:161: UserWarning: The model inputs are of type torch.float32. It is strongly recommended to use double precision in BoTorch, as this improves both precision and stability and can help avoid numerical errors. See https://github.com/pytorch/botorch/discussions/1444\n",
      "  self._validate_tensor_args(X=transformed_X, Y=train_Y, Yvar=train_Yvar)\n"
     ]
    },
    {
     "name": "stdout",
     "output_type": "stream",
     "text": [
      "236) Best value: -5.87e+00\n"
     ]
    },
    {
     "name": "stderr",
     "output_type": "stream",
     "text": [
      "c:\\Users\\82109\\anaconda3\\envs\\botorch_ex\\lib\\site-packages\\botorch\\optim\\initializers.py:404: BadInitialCandidatesWarning: Unable to find non-zero acquisition function values - initial conditions are being selected randomly.\n",
      "  warnings.warn(\n",
      "c:\\Users\\82109\\anaconda3\\envs\\botorch_ex\\lib\\site-packages\\botorch\\models\\gp_regression.py:161: UserWarning: The model inputs are of type torch.float32. It is strongly recommended to use double precision in BoTorch, as this improves both precision and stability and can help avoid numerical errors. See https://github.com/pytorch/botorch/discussions/1444\n",
      "  self._validate_tensor_args(X=transformed_X, Y=train_Y, Yvar=train_Yvar)\n"
     ]
    },
    {
     "name": "stdout",
     "output_type": "stream",
     "text": [
      "240) Best value: -5.87e+00\n"
     ]
    },
    {
     "name": "stderr",
     "output_type": "stream",
     "text": [
      "c:\\Users\\82109\\anaconda3\\envs\\botorch_ex\\lib\\site-packages\\botorch\\optim\\initializers.py:404: BadInitialCandidatesWarning: Unable to find non-zero acquisition function values - initial conditions are being selected randomly.\n",
      "  warnings.warn(\n",
      "c:\\Users\\82109\\anaconda3\\envs\\botorch_ex\\lib\\site-packages\\botorch\\models\\gp_regression.py:161: UserWarning: The model inputs are of type torch.float32. It is strongly recommended to use double precision in BoTorch, as this improves both precision and stability and can help avoid numerical errors. See https://github.com/pytorch/botorch/discussions/1444\n",
      "  self._validate_tensor_args(X=transformed_X, Y=train_Y, Yvar=train_Yvar)\n"
     ]
    },
    {
     "name": "stdout",
     "output_type": "stream",
     "text": [
      "244) Best value: -5.87e+00\n"
     ]
    },
    {
     "name": "stderr",
     "output_type": "stream",
     "text": [
      "c:\\Users\\82109\\anaconda3\\envs\\botorch_ex\\lib\\site-packages\\botorch\\optim\\initializers.py:404: BadInitialCandidatesWarning: Unable to find non-zero acquisition function values - initial conditions are being selected randomly.\n",
      "  warnings.warn(\n",
      "c:\\Users\\82109\\anaconda3\\envs\\botorch_ex\\lib\\site-packages\\botorch\\models\\gp_regression.py:161: UserWarning: The model inputs are of type torch.float32. It is strongly recommended to use double precision in BoTorch, as this improves both precision and stability and can help avoid numerical errors. See https://github.com/pytorch/botorch/discussions/1444\n",
      "  self._validate_tensor_args(X=transformed_X, Y=train_Y, Yvar=train_Yvar)\n"
     ]
    },
    {
     "name": "stdout",
     "output_type": "stream",
     "text": [
      "248) Best value: -5.87e+00\n"
     ]
    },
    {
     "name": "stderr",
     "output_type": "stream",
     "text": [
      "c:\\Users\\82109\\anaconda3\\envs\\botorch_ex\\lib\\site-packages\\botorch\\optim\\fit.py:102: OptimizationWarning: `scipy_minimize` terminated with status 3, displaying original message from `scipy.optimize.minimize`: ABNORMAL_TERMINATION_IN_LNSRCH\n",
      "  warn(\n",
      "c:\\Users\\82109\\anaconda3\\envs\\botorch_ex\\lib\\site-packages\\botorch\\optim\\initializers.py:404: BadInitialCandidatesWarning: Unable to find non-zero acquisition function values - initial conditions are being selected randomly.\n",
      "  warnings.warn(\n",
      "c:\\Users\\82109\\anaconda3\\envs\\botorch_ex\\lib\\site-packages\\botorch\\models\\gp_regression.py:161: UserWarning: The model inputs are of type torch.float32. It is strongly recommended to use double precision in BoTorch, as this improves both precision and stability and can help avoid numerical errors. See https://github.com/pytorch/botorch/discussions/1444\n",
      "  self._validate_tensor_args(X=transformed_X, Y=train_Y, Yvar=train_Yvar)\n"
     ]
    },
    {
     "name": "stdout",
     "output_type": "stream",
     "text": [
      "252) Best value: -5.87e+00\n"
     ]
    },
    {
     "name": "stderr",
     "output_type": "stream",
     "text": [
      "c:\\Users\\82109\\anaconda3\\envs\\botorch_ex\\lib\\site-packages\\botorch\\optim\\initializers.py:404: BadInitialCandidatesWarning: Unable to find non-zero acquisition function values - initial conditions are being selected randomly.\n",
      "  warnings.warn(\n",
      "c:\\Users\\82109\\anaconda3\\envs\\botorch_ex\\lib\\site-packages\\botorch\\models\\gp_regression.py:161: UserWarning: The model inputs are of type torch.float32. It is strongly recommended to use double precision in BoTorch, as this improves both precision and stability and can help avoid numerical errors. See https://github.com/pytorch/botorch/discussions/1444\n",
      "  self._validate_tensor_args(X=transformed_X, Y=train_Y, Yvar=train_Yvar)\n"
     ]
    },
    {
     "name": "stdout",
     "output_type": "stream",
     "text": [
      "256) Best value: -5.87e+00\n"
     ]
    },
    {
     "name": "stderr",
     "output_type": "stream",
     "text": [
      "c:\\Users\\82109\\anaconda3\\envs\\botorch_ex\\lib\\site-packages\\botorch\\optim\\initializers.py:404: BadInitialCandidatesWarning: Unable to find non-zero acquisition function values - initial conditions are being selected randomly.\n",
      "  warnings.warn(\n",
      "c:\\Users\\82109\\anaconda3\\envs\\botorch_ex\\lib\\site-packages\\botorch\\models\\gp_regression.py:161: UserWarning: The model inputs are of type torch.float32. It is strongly recommended to use double precision in BoTorch, as this improves both precision and stability and can help avoid numerical errors. See https://github.com/pytorch/botorch/discussions/1444\n",
      "  self._validate_tensor_args(X=transformed_X, Y=train_Y, Yvar=train_Yvar)\n"
     ]
    },
    {
     "name": "stdout",
     "output_type": "stream",
     "text": [
      "260) Best value: -5.87e+00\n"
     ]
    },
    {
     "name": "stderr",
     "output_type": "stream",
     "text": [
      "c:\\Users\\82109\\anaconda3\\envs\\botorch_ex\\lib\\site-packages\\botorch\\optim\\initializers.py:404: BadInitialCandidatesWarning: Unable to find non-zero acquisition function values - initial conditions are being selected randomly.\n",
      "  warnings.warn(\n",
      "c:\\Users\\82109\\anaconda3\\envs\\botorch_ex\\lib\\site-packages\\botorch\\models\\gp_regression.py:161: UserWarning: The model inputs are of type torch.float32. It is strongly recommended to use double precision in BoTorch, as this improves both precision and stability and can help avoid numerical errors. See https://github.com/pytorch/botorch/discussions/1444\n",
      "  self._validate_tensor_args(X=transformed_X, Y=train_Y, Yvar=train_Yvar)\n"
     ]
    },
    {
     "name": "stdout",
     "output_type": "stream",
     "text": [
      "264) Best value: -5.87e+00\n"
     ]
    },
    {
     "name": "stderr",
     "output_type": "stream",
     "text": [
      "c:\\Users\\82109\\anaconda3\\envs\\botorch_ex\\lib\\site-packages\\botorch\\optim\\initializers.py:404: BadInitialCandidatesWarning: Unable to find non-zero acquisition function values - initial conditions are being selected randomly.\n",
      "  warnings.warn(\n",
      "c:\\Users\\82109\\anaconda3\\envs\\botorch_ex\\lib\\site-packages\\botorch\\models\\gp_regression.py:161: UserWarning: The model inputs are of type torch.float32. It is strongly recommended to use double precision in BoTorch, as this improves both precision and stability and can help avoid numerical errors. See https://github.com/pytorch/botorch/discussions/1444\n",
      "  self._validate_tensor_args(X=transformed_X, Y=train_Y, Yvar=train_Yvar)\n"
     ]
    },
    {
     "name": "stdout",
     "output_type": "stream",
     "text": [
      "268) Best value: -5.87e+00\n"
     ]
    },
    {
     "name": "stderr",
     "output_type": "stream",
     "text": [
      "c:\\Users\\82109\\anaconda3\\envs\\botorch_ex\\lib\\site-packages\\botorch\\optim\\initializers.py:404: BadInitialCandidatesWarning: Unable to find non-zero acquisition function values - initial conditions are being selected randomly.\n",
      "  warnings.warn(\n",
      "c:\\Users\\82109\\anaconda3\\envs\\botorch_ex\\lib\\site-packages\\botorch\\models\\gp_regression.py:161: UserWarning: The model inputs are of type torch.float32. It is strongly recommended to use double precision in BoTorch, as this improves both precision and stability and can help avoid numerical errors. See https://github.com/pytorch/botorch/discussions/1444\n",
      "  self._validate_tensor_args(X=transformed_X, Y=train_Y, Yvar=train_Yvar)\n"
     ]
    },
    {
     "name": "stdout",
     "output_type": "stream",
     "text": [
      "272) Best value: -5.87e+00\n"
     ]
    },
    {
     "name": "stderr",
     "output_type": "stream",
     "text": [
      "c:\\Users\\82109\\anaconda3\\envs\\botorch_ex\\lib\\site-packages\\botorch\\optim\\initializers.py:404: BadInitialCandidatesWarning: Unable to find non-zero acquisition function values - initial conditions are being selected randomly.\n",
      "  warnings.warn(\n",
      "c:\\Users\\82109\\anaconda3\\envs\\botorch_ex\\lib\\site-packages\\botorch\\models\\gp_regression.py:161: UserWarning: The model inputs are of type torch.float32. It is strongly recommended to use double precision in BoTorch, as this improves both precision and stability and can help avoid numerical errors. See https://github.com/pytorch/botorch/discussions/1444\n",
      "  self._validate_tensor_args(X=transformed_X, Y=train_Y, Yvar=train_Yvar)\n"
     ]
    },
    {
     "name": "stdout",
     "output_type": "stream",
     "text": [
      "276) Best value: -5.87e+00\n"
     ]
    },
    {
     "name": "stderr",
     "output_type": "stream",
     "text": [
      "c:\\Users\\82109\\anaconda3\\envs\\botorch_ex\\lib\\site-packages\\botorch\\optim\\initializers.py:404: BadInitialCandidatesWarning: Unable to find non-zero acquisition function values - initial conditions are being selected randomly.\n",
      "  warnings.warn(\n",
      "c:\\Users\\82109\\anaconda3\\envs\\botorch_ex\\lib\\site-packages\\botorch\\models\\gp_regression.py:161: UserWarning: The model inputs are of type torch.float32. It is strongly recommended to use double precision in BoTorch, as this improves both precision and stability and can help avoid numerical errors. See https://github.com/pytorch/botorch/discussions/1444\n",
      "  self._validate_tensor_args(X=transformed_X, Y=train_Y, Yvar=train_Yvar)\n"
     ]
    },
    {
     "name": "stdout",
     "output_type": "stream",
     "text": [
      "280) Best value: -5.87e+00\n"
     ]
    },
    {
     "name": "stderr",
     "output_type": "stream",
     "text": [
      "c:\\Users\\82109\\anaconda3\\envs\\botorch_ex\\lib\\site-packages\\botorch\\optim\\initializers.py:404: BadInitialCandidatesWarning: Unable to find non-zero acquisition function values - initial conditions are being selected randomly.\n",
      "  warnings.warn(\n",
      "c:\\Users\\82109\\anaconda3\\envs\\botorch_ex\\lib\\site-packages\\botorch\\models\\gp_regression.py:161: UserWarning: The model inputs are of type torch.float32. It is strongly recommended to use double precision in BoTorch, as this improves both precision and stability and can help avoid numerical errors. See https://github.com/pytorch/botorch/discussions/1444\n",
      "  self._validate_tensor_args(X=transformed_X, Y=train_Y, Yvar=train_Yvar)\n"
     ]
    },
    {
     "name": "stdout",
     "output_type": "stream",
     "text": [
      "284) Best value: -5.87e+00\n"
     ]
    },
    {
     "name": "stderr",
     "output_type": "stream",
     "text": [
      "c:\\Users\\82109\\anaconda3\\envs\\botorch_ex\\lib\\site-packages\\botorch\\optim\\fit.py:102: OptimizationWarning: `scipy_minimize` terminated with status 3, displaying original message from `scipy.optimize.minimize`: ABNORMAL_TERMINATION_IN_LNSRCH\n",
      "  warn(\n",
      "c:\\Users\\82109\\anaconda3\\envs\\botorch_ex\\lib\\site-packages\\botorch\\optim\\initializers.py:404: BadInitialCandidatesWarning: Unable to find non-zero acquisition function values - initial conditions are being selected randomly.\n",
      "  warnings.warn(\n",
      "c:\\Users\\82109\\anaconda3\\envs\\botorch_ex\\lib\\site-packages\\botorch\\models\\gp_regression.py:161: UserWarning: The model inputs are of type torch.float32. It is strongly recommended to use double precision in BoTorch, as this improves both precision and stability and can help avoid numerical errors. See https://github.com/pytorch/botorch/discussions/1444\n",
      "  self._validate_tensor_args(X=transformed_X, Y=train_Y, Yvar=train_Yvar)\n"
     ]
    },
    {
     "name": "stdout",
     "output_type": "stream",
     "text": [
      "288) Best value: -5.87e+00\n"
     ]
    },
    {
     "name": "stderr",
     "output_type": "stream",
     "text": [
      "c:\\Users\\82109\\anaconda3\\envs\\botorch_ex\\lib\\site-packages\\botorch\\optim\\initializers.py:404: BadInitialCandidatesWarning: Unable to find non-zero acquisition function values - initial conditions are being selected randomly.\n",
      "  warnings.warn(\n",
      "c:\\Users\\82109\\anaconda3\\envs\\botorch_ex\\lib\\site-packages\\botorch\\models\\gp_regression.py:161: UserWarning: The model inputs are of type torch.float32. It is strongly recommended to use double precision in BoTorch, as this improves both precision and stability and can help avoid numerical errors. See https://github.com/pytorch/botorch/discussions/1444\n",
      "  self._validate_tensor_args(X=transformed_X, Y=train_Y, Yvar=train_Yvar)\n"
     ]
    },
    {
     "name": "stdout",
     "output_type": "stream",
     "text": [
      "292) Best value: -5.87e+00\n"
     ]
    },
    {
     "name": "stderr",
     "output_type": "stream",
     "text": [
      "c:\\Users\\82109\\anaconda3\\envs\\botorch_ex\\lib\\site-packages\\botorch\\optim\\initializers.py:404: BadInitialCandidatesWarning: Unable to find non-zero acquisition function values - initial conditions are being selected randomly.\n",
      "  warnings.warn(\n",
      "c:\\Users\\82109\\anaconda3\\envs\\botorch_ex\\lib\\site-packages\\botorch\\models\\gp_regression.py:161: UserWarning: The model inputs are of type torch.float32. It is strongly recommended to use double precision in BoTorch, as this improves both precision and stability and can help avoid numerical errors. See https://github.com/pytorch/botorch/discussions/1444\n",
      "  self._validate_tensor_args(X=transformed_X, Y=train_Y, Yvar=train_Yvar)\n"
     ]
    },
    {
     "name": "stdout",
     "output_type": "stream",
     "text": [
      "296) Best value: -5.87e+00\n"
     ]
    },
    {
     "name": "stderr",
     "output_type": "stream",
     "text": [
      "c:\\Users\\82109\\anaconda3\\envs\\botorch_ex\\lib\\site-packages\\botorch\\optim\\initializers.py:404: BadInitialCandidatesWarning: Unable to find non-zero acquisition function values - initial conditions are being selected randomly.\n",
      "  warnings.warn(\n",
      "c:\\Users\\82109\\anaconda3\\envs\\botorch_ex\\lib\\site-packages\\botorch\\models\\gp_regression.py:161: UserWarning: The model inputs are of type torch.float32. It is strongly recommended to use double precision in BoTorch, as this improves both precision and stability and can help avoid numerical errors. See https://github.com/pytorch/botorch/discussions/1444\n",
      "  self._validate_tensor_args(X=transformed_X, Y=train_Y, Yvar=train_Yvar)\n"
     ]
    },
    {
     "name": "stdout",
     "output_type": "stream",
     "text": [
      "300) Best value: -5.87e+00\n"
     ]
    },
    {
     "name": "stderr",
     "output_type": "stream",
     "text": [
      "c:\\Users\\82109\\anaconda3\\envs\\botorch_ex\\lib\\site-packages\\botorch\\optim\\initializers.py:404: BadInitialCandidatesWarning: Unable to find non-zero acquisition function values - initial conditions are being selected randomly.\n",
      "  warnings.warn(\n",
      "c:\\Users\\82109\\anaconda3\\envs\\botorch_ex\\lib\\site-packages\\botorch\\models\\gp_regression.py:161: UserWarning: The model inputs are of type torch.float32. It is strongly recommended to use double precision in BoTorch, as this improves both precision and stability and can help avoid numerical errors. See https://github.com/pytorch/botorch/discussions/1444\n",
      "  self._validate_tensor_args(X=transformed_X, Y=train_Y, Yvar=train_Yvar)\n"
     ]
    },
    {
     "name": "stdout",
     "output_type": "stream",
     "text": [
      "304) Best value: -5.87e+00\n"
     ]
    },
    {
     "name": "stderr",
     "output_type": "stream",
     "text": [
      "c:\\Users\\82109\\anaconda3\\envs\\botorch_ex\\lib\\site-packages\\botorch\\optim\\initializers.py:404: BadInitialCandidatesWarning: Unable to find non-zero acquisition function values - initial conditions are being selected randomly.\n",
      "  warnings.warn(\n",
      "c:\\Users\\82109\\anaconda3\\envs\\botorch_ex\\lib\\site-packages\\botorch\\models\\gp_regression.py:161: UserWarning: The model inputs are of type torch.float32. It is strongly recommended to use double precision in BoTorch, as this improves both precision and stability and can help avoid numerical errors. See https://github.com/pytorch/botorch/discussions/1444\n",
      "  self._validate_tensor_args(X=transformed_X, Y=train_Y, Yvar=train_Yvar)\n"
     ]
    },
    {
     "name": "stdout",
     "output_type": "stream",
     "text": [
      "308) Best value: -5.87e+00\n"
     ]
    },
    {
     "name": "stderr",
     "output_type": "stream",
     "text": [
      "c:\\Users\\82109\\anaconda3\\envs\\botorch_ex\\lib\\site-packages\\botorch\\optim\\initializers.py:404: BadInitialCandidatesWarning: Unable to find non-zero acquisition function values - initial conditions are being selected randomly.\n",
      "  warnings.warn(\n",
      "c:\\Users\\82109\\anaconda3\\envs\\botorch_ex\\lib\\site-packages\\botorch\\models\\gp_regression.py:161: UserWarning: The model inputs are of type torch.float32. It is strongly recommended to use double precision in BoTorch, as this improves both precision and stability and can help avoid numerical errors. See https://github.com/pytorch/botorch/discussions/1444\n",
      "  self._validate_tensor_args(X=transformed_X, Y=train_Y, Yvar=train_Yvar)\n"
     ]
    },
    {
     "name": "stdout",
     "output_type": "stream",
     "text": [
      "312) Best value: -5.87e+00\n"
     ]
    },
    {
     "name": "stderr",
     "output_type": "stream",
     "text": [
      "c:\\Users\\82109\\anaconda3\\envs\\botorch_ex\\lib\\site-packages\\botorch\\optim\\initializers.py:404: BadInitialCandidatesWarning: Unable to find non-zero acquisition function values - initial conditions are being selected randomly.\n",
      "  warnings.warn(\n",
      "c:\\Users\\82109\\anaconda3\\envs\\botorch_ex\\lib\\site-packages\\botorch\\models\\gp_regression.py:161: UserWarning: The model inputs are of type torch.float32. It is strongly recommended to use double precision in BoTorch, as this improves both precision and stability and can help avoid numerical errors. See https://github.com/pytorch/botorch/discussions/1444\n",
      "  self._validate_tensor_args(X=transformed_X, Y=train_Y, Yvar=train_Yvar)\n"
     ]
    },
    {
     "name": "stdout",
     "output_type": "stream",
     "text": [
      "316) Best value: -5.87e+00\n"
     ]
    },
    {
     "name": "stderr",
     "output_type": "stream",
     "text": [
      "c:\\Users\\82109\\anaconda3\\envs\\botorch_ex\\lib\\site-packages\\botorch\\optim\\initializers.py:404: BadInitialCandidatesWarning: Unable to find non-zero acquisition function values - initial conditions are being selected randomly.\n",
      "  warnings.warn(\n",
      "c:\\Users\\82109\\anaconda3\\envs\\botorch_ex\\lib\\site-packages\\botorch\\models\\gp_regression.py:161: UserWarning: The model inputs are of type torch.float32. It is strongly recommended to use double precision in BoTorch, as this improves both precision and stability and can help avoid numerical errors. See https://github.com/pytorch/botorch/discussions/1444\n",
      "  self._validate_tensor_args(X=transformed_X, Y=train_Y, Yvar=train_Yvar)\n"
     ]
    },
    {
     "name": "stdout",
     "output_type": "stream",
     "text": [
      "320) Best value: -5.87e+00\n"
     ]
    },
    {
     "name": "stderr",
     "output_type": "stream",
     "text": [
      "c:\\Users\\82109\\anaconda3\\envs\\botorch_ex\\lib\\site-packages\\botorch\\optim\\initializers.py:404: BadInitialCandidatesWarning: Unable to find non-zero acquisition function values - initial conditions are being selected randomly.\n",
      "  warnings.warn(\n",
      "c:\\Users\\82109\\anaconda3\\envs\\botorch_ex\\lib\\site-packages\\botorch\\models\\gp_regression.py:161: UserWarning: The model inputs are of type torch.float32. It is strongly recommended to use double precision in BoTorch, as this improves both precision and stability and can help avoid numerical errors. See https://github.com/pytorch/botorch/discussions/1444\n",
      "  self._validate_tensor_args(X=transformed_X, Y=train_Y, Yvar=train_Yvar)\n"
     ]
    },
    {
     "name": "stdout",
     "output_type": "stream",
     "text": [
      "324) Best value: -5.87e+00\n"
     ]
    },
    {
     "name": "stderr",
     "output_type": "stream",
     "text": [
      "c:\\Users\\82109\\anaconda3\\envs\\botorch_ex\\lib\\site-packages\\botorch\\optim\\fit.py:102: OptimizationWarning: `scipy_minimize` terminated with status 3, displaying original message from `scipy.optimize.minimize`: ABNORMAL_TERMINATION_IN_LNSRCH\n",
      "  warn(\n",
      "c:\\Users\\82109\\anaconda3\\envs\\botorch_ex\\lib\\site-packages\\botorch\\optim\\fit.py:102: OptimizationWarning: `scipy_minimize` terminated with status 3, displaying original message from `scipy.optimize.minimize`: ABNORMAL_TERMINATION_IN_LNSRCH\n",
      "  warn(\n",
      "c:\\Users\\82109\\anaconda3\\envs\\botorch_ex\\lib\\site-packages\\botorch\\optim\\initializers.py:404: BadInitialCandidatesWarning: Unable to find non-zero acquisition function values - initial conditions are being selected randomly.\n",
      "  warnings.warn(\n",
      "c:\\Users\\82109\\anaconda3\\envs\\botorch_ex\\lib\\site-packages\\botorch\\models\\gp_regression.py:161: UserWarning: The model inputs are of type torch.float32. It is strongly recommended to use double precision in BoTorch, as this improves both precision and stability and can help avoid numerical errors. See https://github.com/pytorch/botorch/discussions/1444\n",
      "  self._validate_tensor_args(X=transformed_X, Y=train_Y, Yvar=train_Yvar)\n"
     ]
    },
    {
     "name": "stdout",
     "output_type": "stream",
     "text": [
      "328) Best value: -5.87e+00\n"
     ]
    },
    {
     "name": "stderr",
     "output_type": "stream",
     "text": [
      "c:\\Users\\82109\\anaconda3\\envs\\botorch_ex\\lib\\site-packages\\botorch\\optim\\initializers.py:404: BadInitialCandidatesWarning: Unable to find non-zero acquisition function values - initial conditions are being selected randomly.\n",
      "  warnings.warn(\n",
      "c:\\Users\\82109\\anaconda3\\envs\\botorch_ex\\lib\\site-packages\\botorch\\models\\gp_regression.py:161: UserWarning: The model inputs are of type torch.float32. It is strongly recommended to use double precision in BoTorch, as this improves both precision and stability and can help avoid numerical errors. See https://github.com/pytorch/botorch/discussions/1444\n",
      "  self._validate_tensor_args(X=transformed_X, Y=train_Y, Yvar=train_Yvar)\n"
     ]
    },
    {
     "name": "stdout",
     "output_type": "stream",
     "text": [
      "332) Best value: -5.87e+00\n"
     ]
    },
    {
     "name": "stderr",
     "output_type": "stream",
     "text": [
      "c:\\Users\\82109\\anaconda3\\envs\\botorch_ex\\lib\\site-packages\\botorch\\optim\\initializers.py:404: BadInitialCandidatesWarning: Unable to find non-zero acquisition function values - initial conditions are being selected randomly.\n",
      "  warnings.warn(\n",
      "c:\\Users\\82109\\anaconda3\\envs\\botorch_ex\\lib\\site-packages\\botorch\\models\\gp_regression.py:161: UserWarning: The model inputs are of type torch.float32. It is strongly recommended to use double precision in BoTorch, as this improves both precision and stability and can help avoid numerical errors. See https://github.com/pytorch/botorch/discussions/1444\n",
      "  self._validate_tensor_args(X=transformed_X, Y=train_Y, Yvar=train_Yvar)\n"
     ]
    },
    {
     "name": "stdout",
     "output_type": "stream",
     "text": [
      "336) Best value: -5.87e+00\n"
     ]
    },
    {
     "name": "stderr",
     "output_type": "stream",
     "text": [
      "c:\\Users\\82109\\anaconda3\\envs\\botorch_ex\\lib\\site-packages\\botorch\\optim\\initializers.py:404: BadInitialCandidatesWarning: Unable to find non-zero acquisition function values - initial conditions are being selected randomly.\n",
      "  warnings.warn(\n",
      "c:\\Users\\82109\\anaconda3\\envs\\botorch_ex\\lib\\site-packages\\botorch\\models\\gp_regression.py:161: UserWarning: The model inputs are of type torch.float32. It is strongly recommended to use double precision in BoTorch, as this improves both precision and stability and can help avoid numerical errors. See https://github.com/pytorch/botorch/discussions/1444\n",
      "  self._validate_tensor_args(X=transformed_X, Y=train_Y, Yvar=train_Yvar)\n"
     ]
    },
    {
     "name": "stdout",
     "output_type": "stream",
     "text": [
      "340) Best value: -5.87e+00\n"
     ]
    },
    {
     "name": "stderr",
     "output_type": "stream",
     "text": [
      "c:\\Users\\82109\\anaconda3\\envs\\botorch_ex\\lib\\site-packages\\botorch\\optim\\initializers.py:404: BadInitialCandidatesWarning: Unable to find non-zero acquisition function values - initial conditions are being selected randomly.\n",
      "  warnings.warn(\n",
      "c:\\Users\\82109\\anaconda3\\envs\\botorch_ex\\lib\\site-packages\\botorch\\models\\gp_regression.py:161: UserWarning: The model inputs are of type torch.float32. It is strongly recommended to use double precision in BoTorch, as this improves both precision and stability and can help avoid numerical errors. See https://github.com/pytorch/botorch/discussions/1444\n",
      "  self._validate_tensor_args(X=transformed_X, Y=train_Y, Yvar=train_Yvar)\n"
     ]
    },
    {
     "name": "stdout",
     "output_type": "stream",
     "text": [
      "344) Best value: -5.87e+00\n"
     ]
    },
    {
     "name": "stderr",
     "output_type": "stream",
     "text": [
      "c:\\Users\\82109\\anaconda3\\envs\\botorch_ex\\lib\\site-packages\\botorch\\optim\\initializers.py:404: BadInitialCandidatesWarning: Unable to find non-zero acquisition function values - initial conditions are being selected randomly.\n",
      "  warnings.warn(\n",
      "c:\\Users\\82109\\anaconda3\\envs\\botorch_ex\\lib\\site-packages\\botorch\\models\\gp_regression.py:161: UserWarning: The model inputs are of type torch.float32. It is strongly recommended to use double precision in BoTorch, as this improves both precision and stability and can help avoid numerical errors. See https://github.com/pytorch/botorch/discussions/1444\n",
      "  self._validate_tensor_args(X=transformed_X, Y=train_Y, Yvar=train_Yvar)\n"
     ]
    },
    {
     "name": "stdout",
     "output_type": "stream",
     "text": [
      "348) Best value: -5.87e+00\n"
     ]
    },
    {
     "name": "stderr",
     "output_type": "stream",
     "text": [
      "c:\\Users\\82109\\anaconda3\\envs\\botorch_ex\\lib\\site-packages\\botorch\\optim\\initializers.py:404: BadInitialCandidatesWarning: Unable to find non-zero acquisition function values - initial conditions are being selected randomly.\n",
      "  warnings.warn(\n",
      "c:\\Users\\82109\\anaconda3\\envs\\botorch_ex\\lib\\site-packages\\botorch\\models\\gp_regression.py:161: UserWarning: The model inputs are of type torch.float32. It is strongly recommended to use double precision in BoTorch, as this improves both precision and stability and can help avoid numerical errors. See https://github.com/pytorch/botorch/discussions/1444\n",
      "  self._validate_tensor_args(X=transformed_X, Y=train_Y, Yvar=train_Yvar)\n"
     ]
    },
    {
     "name": "stdout",
     "output_type": "stream",
     "text": [
      "352) Best value: -5.87e+00\n"
     ]
    },
    {
     "name": "stderr",
     "output_type": "stream",
     "text": [
      "c:\\Users\\82109\\anaconda3\\envs\\botorch_ex\\lib\\site-packages\\botorch\\optim\\initializers.py:404: BadInitialCandidatesWarning: Unable to find non-zero acquisition function values - initial conditions are being selected randomly.\n",
      "  warnings.warn(\n",
      "c:\\Users\\82109\\anaconda3\\envs\\botorch_ex\\lib\\site-packages\\botorch\\models\\gp_regression.py:161: UserWarning: The model inputs are of type torch.float32. It is strongly recommended to use double precision in BoTorch, as this improves both precision and stability and can help avoid numerical errors. See https://github.com/pytorch/botorch/discussions/1444\n",
      "  self._validate_tensor_args(X=transformed_X, Y=train_Y, Yvar=train_Yvar)\n"
     ]
    },
    {
     "name": "stdout",
     "output_type": "stream",
     "text": [
      "356) Best value: -5.87e+00\n"
     ]
    },
    {
     "name": "stderr",
     "output_type": "stream",
     "text": [
      "c:\\Users\\82109\\anaconda3\\envs\\botorch_ex\\lib\\site-packages\\botorch\\optim\\initializers.py:404: BadInitialCandidatesWarning: Unable to find non-zero acquisition function values - initial conditions are being selected randomly.\n",
      "  warnings.warn(\n",
      "c:\\Users\\82109\\anaconda3\\envs\\botorch_ex\\lib\\site-packages\\botorch\\models\\gp_regression.py:161: UserWarning: The model inputs are of type torch.float32. It is strongly recommended to use double precision in BoTorch, as this improves both precision and stability and can help avoid numerical errors. See https://github.com/pytorch/botorch/discussions/1444\n",
      "  self._validate_tensor_args(X=transformed_X, Y=train_Y, Yvar=train_Yvar)\n"
     ]
    },
    {
     "name": "stdout",
     "output_type": "stream",
     "text": [
      "360) Best value: -5.87e+00\n"
     ]
    },
    {
     "name": "stderr",
     "output_type": "stream",
     "text": [
      "c:\\Users\\82109\\anaconda3\\envs\\botorch_ex\\lib\\site-packages\\botorch\\optim\\initializers.py:404: BadInitialCandidatesWarning: Unable to find non-zero acquisition function values - initial conditions are being selected randomly.\n",
      "  warnings.warn(\n",
      "c:\\Users\\82109\\anaconda3\\envs\\botorch_ex\\lib\\site-packages\\botorch\\models\\gp_regression.py:161: UserWarning: The model inputs are of type torch.float32. It is strongly recommended to use double precision in BoTorch, as this improves both precision and stability and can help avoid numerical errors. See https://github.com/pytorch/botorch/discussions/1444\n",
      "  self._validate_tensor_args(X=transformed_X, Y=train_Y, Yvar=train_Yvar)\n"
     ]
    },
    {
     "name": "stdout",
     "output_type": "stream",
     "text": [
      "364) Best value: -5.87e+00\n"
     ]
    },
    {
     "name": "stderr",
     "output_type": "stream",
     "text": [
      "c:\\Users\\82109\\anaconda3\\envs\\botorch_ex\\lib\\site-packages\\botorch\\optim\\initializers.py:404: BadInitialCandidatesWarning: Unable to find non-zero acquisition function values - initial conditions are being selected randomly.\n",
      "  warnings.warn(\n",
      "c:\\Users\\82109\\anaconda3\\envs\\botorch_ex\\lib\\site-packages\\botorch\\models\\gp_regression.py:161: UserWarning: The model inputs are of type torch.float32. It is strongly recommended to use double precision in BoTorch, as this improves both precision and stability and can help avoid numerical errors. See https://github.com/pytorch/botorch/discussions/1444\n",
      "  self._validate_tensor_args(X=transformed_X, Y=train_Y, Yvar=train_Yvar)\n"
     ]
    },
    {
     "name": "stdout",
     "output_type": "stream",
     "text": [
      "368) Best value: -5.87e+00\n"
     ]
    },
    {
     "name": "stderr",
     "output_type": "stream",
     "text": [
      "c:\\Users\\82109\\anaconda3\\envs\\botorch_ex\\lib\\site-packages\\botorch\\optim\\initializers.py:404: BadInitialCandidatesWarning: Unable to find non-zero acquisition function values - initial conditions are being selected randomly.\n",
      "  warnings.warn(\n",
      "c:\\Users\\82109\\anaconda3\\envs\\botorch_ex\\lib\\site-packages\\botorch\\models\\gp_regression.py:161: UserWarning: The model inputs are of type torch.float32. It is strongly recommended to use double precision in BoTorch, as this improves both precision and stability and can help avoid numerical errors. See https://github.com/pytorch/botorch/discussions/1444\n",
      "  self._validate_tensor_args(X=transformed_X, Y=train_Y, Yvar=train_Yvar)\n"
     ]
    },
    {
     "name": "stdout",
     "output_type": "stream",
     "text": [
      "372) Best value: -5.87e+00\n"
     ]
    },
    {
     "name": "stderr",
     "output_type": "stream",
     "text": [
      "c:\\Users\\82109\\anaconda3\\envs\\botorch_ex\\lib\\site-packages\\botorch\\optim\\initializers.py:404: BadInitialCandidatesWarning: Unable to find non-zero acquisition function values - initial conditions are being selected randomly.\n",
      "  warnings.warn(\n",
      "c:\\Users\\82109\\anaconda3\\envs\\botorch_ex\\lib\\site-packages\\botorch\\models\\gp_regression.py:161: UserWarning: The model inputs are of type torch.float32. It is strongly recommended to use double precision in BoTorch, as this improves both precision and stability and can help avoid numerical errors. See https://github.com/pytorch/botorch/discussions/1444\n",
      "  self._validate_tensor_args(X=transformed_X, Y=train_Y, Yvar=train_Yvar)\n"
     ]
    },
    {
     "name": "stdout",
     "output_type": "stream",
     "text": [
      "376) Best value: -5.87e+00\n"
     ]
    },
    {
     "name": "stderr",
     "output_type": "stream",
     "text": [
      "c:\\Users\\82109\\anaconda3\\envs\\botorch_ex\\lib\\site-packages\\botorch\\optim\\initializers.py:404: BadInitialCandidatesWarning: Unable to find non-zero acquisition function values - initial conditions are being selected randomly.\n",
      "  warnings.warn(\n",
      "c:\\Users\\82109\\anaconda3\\envs\\botorch_ex\\lib\\site-packages\\botorch\\models\\gp_regression.py:161: UserWarning: The model inputs are of type torch.float32. It is strongly recommended to use double precision in BoTorch, as this improves both precision and stability and can help avoid numerical errors. See https://github.com/pytorch/botorch/discussions/1444\n",
      "  self._validate_tensor_args(X=transformed_X, Y=train_Y, Yvar=train_Yvar)\n"
     ]
    },
    {
     "name": "stdout",
     "output_type": "stream",
     "text": [
      "380) Best value: -5.87e+00\n"
     ]
    },
    {
     "name": "stderr",
     "output_type": "stream",
     "text": [
      "c:\\Users\\82109\\anaconda3\\envs\\botorch_ex\\lib\\site-packages\\botorch\\optim\\initializers.py:404: BadInitialCandidatesWarning: Unable to find non-zero acquisition function values - initial conditions are being selected randomly.\n",
      "  warnings.warn(\n",
      "c:\\Users\\82109\\anaconda3\\envs\\botorch_ex\\lib\\site-packages\\botorch\\models\\gp_regression.py:161: UserWarning: The model inputs are of type torch.float32. It is strongly recommended to use double precision in BoTorch, as this improves both precision and stability and can help avoid numerical errors. See https://github.com/pytorch/botorch/discussions/1444\n",
      "  self._validate_tensor_args(X=transformed_X, Y=train_Y, Yvar=train_Yvar)\n"
     ]
    },
    {
     "name": "stdout",
     "output_type": "stream",
     "text": [
      "384) Best value: -5.87e+00\n"
     ]
    },
    {
     "name": "stderr",
     "output_type": "stream",
     "text": [
      "c:\\Users\\82109\\anaconda3\\envs\\botorch_ex\\lib\\site-packages\\botorch\\optim\\initializers.py:404: BadInitialCandidatesWarning: Unable to find non-zero acquisition function values - initial conditions are being selected randomly.\n",
      "  warnings.warn(\n",
      "c:\\Users\\82109\\anaconda3\\envs\\botorch_ex\\lib\\site-packages\\botorch\\models\\gp_regression.py:161: UserWarning: The model inputs are of type torch.float32. It is strongly recommended to use double precision in BoTorch, as this improves both precision and stability and can help avoid numerical errors. See https://github.com/pytorch/botorch/discussions/1444\n",
      "  self._validate_tensor_args(X=transformed_X, Y=train_Y, Yvar=train_Yvar)\n"
     ]
    },
    {
     "name": "stdout",
     "output_type": "stream",
     "text": [
      "388) Best value: -5.87e+00\n"
     ]
    },
    {
     "name": "stderr",
     "output_type": "stream",
     "text": [
      "c:\\Users\\82109\\anaconda3\\envs\\botorch_ex\\lib\\site-packages\\botorch\\optim\\initializers.py:404: BadInitialCandidatesWarning: Unable to find non-zero acquisition function values - initial conditions are being selected randomly.\n",
      "  warnings.warn(\n",
      "c:\\Users\\82109\\anaconda3\\envs\\botorch_ex\\lib\\site-packages\\botorch\\models\\gp_regression.py:161: UserWarning: The model inputs are of type torch.float32. It is strongly recommended to use double precision in BoTorch, as this improves both precision and stability and can help avoid numerical errors. See https://github.com/pytorch/botorch/discussions/1444\n",
      "  self._validate_tensor_args(X=transformed_X, Y=train_Y, Yvar=train_Yvar)\n"
     ]
    },
    {
     "name": "stdout",
     "output_type": "stream",
     "text": [
      "392) Best value: -5.87e+00\n"
     ]
    },
    {
     "name": "stderr",
     "output_type": "stream",
     "text": [
      "c:\\Users\\82109\\anaconda3\\envs\\botorch_ex\\lib\\site-packages\\botorch\\optim\\initializers.py:404: BadInitialCandidatesWarning: Unable to find non-zero acquisition function values - initial conditions are being selected randomly.\n",
      "  warnings.warn(\n",
      "c:\\Users\\82109\\anaconda3\\envs\\botorch_ex\\lib\\site-packages\\botorch\\models\\gp_regression.py:161: UserWarning: The model inputs are of type torch.float32. It is strongly recommended to use double precision in BoTorch, as this improves both precision and stability and can help avoid numerical errors. See https://github.com/pytorch/botorch/discussions/1444\n",
      "  self._validate_tensor_args(X=transformed_X, Y=train_Y, Yvar=train_Yvar)\n"
     ]
    },
    {
     "name": "stdout",
     "output_type": "stream",
     "text": [
      "396) Best value: -5.87e+00\n",
      "400) Best value: -5.87e+00\n"
     ]
    },
    {
     "name": "stderr",
     "output_type": "stream",
     "text": [
      "c:\\Users\\82109\\anaconda3\\envs\\botorch_ex\\lib\\site-packages\\botorch\\optim\\initializers.py:404: BadInitialCandidatesWarning: Unable to find non-zero acquisition function values - initial conditions are being selected randomly.\n",
      "  warnings.warn(\n"
     ]
    }
   ],
   "source": [
    "# NUM_RESTARTS = 2\n",
    "# RAW_SAMPLES = 4\n",
    "# N_CANDIDATES = 4\n",
    "\n",
    "torch.manual_seed(0)\n",
    "\n",
    "X_ei = get_initial_points(dim, n_init)\n",
    "Y_ei = torch.tensor(\n",
    "    [eval_objective(x) for x in X_ei], dtype=dtype, device=device\n",
    ").unsqueeze(-1)\n",
    "\n",
    "while len(Y_ei) < 400:\n",
    "    train_Y = (Y_ei - Y_ei.mean()) / Y_ei.std()\n",
    "    likelihood = GaussianLikelihood(noise_constraint=Interval(1e-8, 1e-3))\n",
    "    model = SingleTaskGP(X_ei, train_Y, likelihood=likelihood)\n",
    "    mll = ExactMarginalLogLikelihood(model.likelihood, model)\n",
    "    fit_gpytorch_mll(mll)\n",
    "\n",
    "    # Create a batch\n",
    "    ei = qExpectedImprovement(model, train_Y.max())\n",
    "    candidate, acq_value = optimize_acqf(\n",
    "        ei,\n",
    "        bounds=torch.stack(\n",
    "            [\n",
    "                torch.zeros(dim, dtype=dtype, device=device),\n",
    "                torch.ones(dim, dtype=dtype, device=device),\n",
    "            ]\n",
    "        ),\n",
    "        q=batch_size,\n",
    "        num_restarts=NUM_RESTARTS,\n",
    "        raw_samples=RAW_SAMPLES,\n",
    "    )\n",
    "    Y_next = torch.tensor(\n",
    "        [eval_objective(x) for x in candidate], dtype=dtype, device=device\n",
    "    ).unsqueeze(-1)\n",
    "\n",
    "    # Append data\n",
    "    X_ei = torch.cat((X_ei, candidate), axis=0)\n",
    "    Y_ei = torch.cat((Y_ei, Y_next), axis=0)\n",
    "    # print(X_ei.size(), Y_ei.size())\n",
    "\n",
    "    # Print current status\n",
    "    print(f\"{len(X_ei)}) Best value: {Y_ei.max().item():.2e}\")"
   ]
  },
  {
   "cell_type": "markdown",
   "metadata": {},
   "source": [
    "### NP-MC"
   ]
  },
  {
   "cell_type": "code",
   "execution_count": 7,
   "metadata": {},
   "outputs": [],
   "source": [
    "import glob\n",
    "import numpy as np\n",
    "import torch\n",
    "from math import pi\n",
    "from PIL import Image\n",
    "from torch.utils.data import Dataset, DataLoader\n",
    "from torchvision import datasets, transforms\n",
    "\n",
    "class My_Ackley(Dataset):\n",
    "    def __init__(self, train_x, train_y):\n",
    "        self.train_x = train_x\n",
    "        self.train_y = train_y\n",
    "\n",
    "        # Generate data\n",
    "        self.data = []\n",
    "        self.data.append((self.train_x, self.train_y))\n",
    "\n",
    "    def __getitem__(self, index):\n",
    "        return self.data[index]\n",
    "\n",
    "    def __len__(self):\n",
    "        return len(self.data)"
   ]
  },
  {
   "cell_type": "code",
   "execution_count": 8,
   "metadata": {},
   "outputs": [],
   "source": [
    "# from torch.utils.data import DataLoader\n",
    "# from neural_process import NeuralProcess\n",
    "# from training import NeuralProcessTrainer\n",
    "\n",
    "# ## NP model\n",
    "# x_dim = 20\n",
    "# y_dim = 1\n",
    "# r_dim = 50  # Dimension of representation of context points\n",
    "# z_dim = 50  # Dimension of sampled latent variable\n",
    "# h_dim = 50  # Dimension of hidden layers in encoder and decoder\n",
    "# neuralprocess = NeuralProcess(x_dim, y_dim, r_dim, z_dim, h_dim)\n",
    "\n",
    "# torch.manual_seed(0)\n",
    "# X_np = get_initial_points(dim, n_init)\n",
    "# Y_np = torch.tensor(\n",
    "#     [eval_objective(x) for x in X_np], dtype=dtype, device=device\n",
    "# ).unsqueeze(-1)\n",
    "\n",
    "# batch_size = 2\n",
    "# num_context = 4\n",
    "# num_target = 4\n",
    "\n",
    "# ackley_dataset = My_Ackley(train_x = X_np, train_y = Y_np)\n",
    "# data_loader = DataLoader(ackley_dataset, batch_size=batch_size, shuffle=True)\n",
    "\n",
    "# optimizer = torch.optim.Adam(neuralprocess.parameters(), lr=3e-4)\n",
    "# np_trainer = NeuralProcessTrainer(device, neuralprocess, optimizer,\n",
    "#                                   num_context_range=(num_context, num_context),\n",
    "#                                   num_extra_target_range=(num_target, num_target), \n",
    "#                                   print_freq=100)\n",
    "\n",
    "# neuralprocess.training = True\n",
    "# np_trainer.train(data_loader, 500)"
   ]
  },
  {
   "cell_type": "code",
   "execution_count": 9,
   "metadata": {},
   "outputs": [],
   "source": [
    "# from utils import context_target_split\n",
    "# from botorch.sampling.normal import SobolQMCNormalSampler\n",
    "# from botorch.acquisition.monte_carlo import MCAcquisitionFunction, qExpectedImprovement\n",
    "# from botorch.acquisition.monte_carlo import SampleReducingMCAcquisitionFunction\n",
    "# from botorch.sampling.stochastic_samplers import StochasticSampler\n",
    "# from botorch.acquisition.objective import IdentityMCObjective\n",
    "\n",
    "# # Extract a batch from data_loader\n",
    "# for batch in data_loader:\n",
    "#     break\n",
    "\n",
    "# # Use batch to create random set of context points\n",
    "# x, y = batch\n",
    "# x_context, y_context, _, _ = context_target_split(x[0:1], y[0:1], \n",
    "#                                                   num_context, \n",
    "#                                                   num_target)\n",
    "\n",
    "# # Create a set of target points corresponding to entire [-pi, pi] range\n",
    "# x_target = torch.Tensor(np.linspace(-5, 10, 100)).unsqueeze(1).unsqueeze(0)\n",
    "# for i in range(dim-1):\n",
    "#     a = torch.Tensor(np.linspace(-5, 10, 100)).unsqueeze(1).unsqueeze(0)\n",
    "#     x_target = torch.cat((x_target, a), axis=2)\n",
    "\n",
    "# best_f = Y_np.max()\n",
    "# neuralprocess.training = False\n",
    "# # sampler = SobolQMCNormalSampler(torch.Size([4]), seed=1234)\n",
    "# # sampler = StochasticSampler(torch.Size([4]), seed=1234)\n",
    "# # obj = IdentityMCObjective()\n",
    "# # acq = qExpectedImprovement(neuralprocess, best_f, sampler, obj)\n",
    "# posterior = neuralprocess.posterior(x_context, y_context, x_target)\n",
    "# # samples = sampler(posterior)\n",
    "# # print(samples.size())\n",
    "# sampler = StochasticSampler(torch.Size([4]), seed=1234)\n",
    "# identity_objective = IdentityMCObjective()\n",
    "# samples = sampler(posterior)\n",
    "# objective = identity_objective(samples)"
   ]
  },
  {
   "cell_type": "code",
   "execution_count": 10,
   "metadata": {},
   "outputs": [
    {
     "name": "stdout",
     "output_type": "stream",
     "text": [
      "iteration 100, loss 9.778\n",
      "iteration 200, loss 12.647\n",
      "48) Best value: -1.11e+01\n",
      "iteration 300, loss 11.552\n",
      "iteration 400, loss 9.583\n",
      "56) Best value: -1.11e+01\n",
      "iteration 500, loss 8.334\n",
      "iteration 600, loss 6.957\n",
      "64) Best value: -1.11e+01\n",
      "iteration 700, loss 7.141\n",
      "iteration 800, loss 5.109\n",
      "72) Best value: -1.11e+01\n",
      "iteration 900, loss 4.914\n",
      "iteration 1000, loss 5.234\n",
      "80) Best value: -1.11e+01\n",
      "iteration 1100, loss 5.783\n",
      "iteration 1200, loss 4.310\n",
      "88) Best value: -1.11e+01\n",
      "iteration 1300, loss 5.221\n",
      "iteration 1400, loss 10.738\n",
      "96) Best value: -1.11e+01\n",
      "iteration 1500, loss 3.745\n",
      "iteration 1600, loss 5.733\n",
      "104) Best value: -1.11e+01\n",
      "iteration 1700, loss 3.694\n",
      "iteration 1800, loss 6.231\n",
      "112) Best value: -1.11e+01\n",
      "iteration 1900, loss 8.111\n",
      "iteration 2000, loss 4.713\n",
      "120) Best value: -1.11e+01\n",
      "iteration 2100, loss 3.693\n",
      "iteration 2200, loss 6.324\n",
      "128) Best value: -1.11e+01\n",
      "iteration 2300, loss 1.959\n",
      "iteration 2400, loss 4.471\n",
      "136) Best value: -1.11e+01\n",
      "iteration 2500, loss 6.421\n",
      "iteration 2600, loss 3.496\n",
      "144) Best value: -1.11e+01\n",
      "iteration 2700, loss 6.430\n",
      "iteration 2800, loss 4.415\n",
      "152) Best value: -1.11e+01\n",
      "iteration 2900, loss 3.336\n",
      "iteration 3000, loss 3.806\n",
      "160) Best value: -1.11e+01\n",
      "iteration 3100, loss 4.152\n",
      "iteration 3200, loss 5.348\n",
      "168) Best value: -1.11e+01\n",
      "iteration 3300, loss 6.770\n",
      "iteration 3400, loss 3.061\n",
      "176) Best value: -1.11e+01\n",
      "iteration 3500, loss 7.430\n",
      "iteration 3600, loss 2.657\n",
      "184) Best value: -1.11e+01\n",
      "iteration 3700, loss 6.947\n",
      "iteration 3800, loss 3.038\n",
      "192) Best value: -1.11e+01\n",
      "iteration 3900, loss 1.338\n",
      "iteration 4000, loss 2.351\n",
      "200) Best value: -1.11e+01\n",
      "iteration 4100, loss 3.973\n",
      "iteration 4200, loss 5.505\n",
      "208) Best value: -1.07e+01\n",
      "iteration 4300, loss 4.077\n",
      "iteration 4400, loss 1.443\n",
      "216) Best value: -1.07e+01\n",
      "iteration 4500, loss 3.381\n",
      "iteration 4600, loss 6.496\n",
      "224) Best value: -1.07e+01\n",
      "iteration 4700, loss 5.333\n",
      "iteration 4800, loss 2.911\n",
      "232) Best value: -1.07e+01\n",
      "iteration 4900, loss 3.963\n",
      "iteration 5000, loss 3.819\n",
      "240) Best value: -1.07e+01\n",
      "iteration 5100, loss 2.583\n",
      "iteration 5200, loss 1.434\n",
      "248) Best value: -1.07e+01\n",
      "iteration 5300, loss 5.510\n",
      "iteration 5400, loss 4.781\n",
      "256) Best value: -1.07e+01\n",
      "iteration 5500, loss 2.318\n",
      "iteration 5600, loss 2.677\n",
      "264) Best value: -1.07e+01\n",
      "iteration 5700, loss 1.176\n",
      "iteration 5800, loss 6.994\n",
      "272) Best value: -1.07e+01\n",
      "iteration 5900, loss 1.580\n",
      "iteration 6000, loss 5.483\n",
      "280) Best value: -1.07e+01\n",
      "iteration 6100, loss 8.415\n",
      "iteration 6200, loss 5.803\n",
      "288) Best value: -1.07e+01\n",
      "iteration 6300, loss 2.093\n",
      "iteration 6400, loss 9.589\n",
      "296) Best value: -1.07e+01\n",
      "iteration 6500, loss 2.746\n",
      "iteration 6600, loss 6.836\n",
      "304) Best value: -1.07e+01\n",
      "iteration 6700, loss 3.362\n",
      "iteration 6800, loss 3.065\n",
      "312) Best value: -1.07e+01\n",
      "iteration 6900, loss 3.248\n",
      "iteration 7000, loss 1.921\n",
      "320) Best value: -1.07e+01\n",
      "iteration 7100, loss 5.235\n",
      "iteration 7200, loss 4.777\n",
      "328) Best value: -1.07e+01\n",
      "iteration 7300, loss 5.581\n",
      "iteration 7400, loss 1.245\n",
      "336) Best value: -1.07e+01\n",
      "iteration 7500, loss 6.926\n",
      "iteration 7600, loss 2.433\n",
      "344) Best value: -1.07e+01\n",
      "iteration 7700, loss 1.058\n",
      "iteration 7800, loss 5.932\n",
      "352) Best value: -1.07e+01\n",
      "iteration 7900, loss 4.069\n",
      "iteration 8000, loss 1.558\n",
      "360) Best value: -9.75e+00\n",
      "iteration 8100, loss 3.860\n",
      "iteration 8200, loss 2.992\n",
      "368) Best value: -9.75e+00\n",
      "iteration 8300, loss 1.041\n",
      "iteration 8400, loss 2.736\n",
      "376) Best value: -9.75e+00\n",
      "iteration 8500, loss 1.391\n",
      "iteration 8600, loss 3.418\n",
      "384) Best value: -9.75e+00\n",
      "iteration 8700, loss 3.278\n",
      "iteration 8800, loss 8.953\n",
      "392) Best value: -9.75e+00\n",
      "iteration 8900, loss 3.114\n",
      "iteration 9000, loss 2.839\n",
      "400) Best value: -9.75e+00\n"
     ]
    }
   ],
   "source": [
    "## bo\n",
    "from torch.utils.data import DataLoader\n",
    "from neural_process import NeuralProcess\n",
    "from training import NeuralProcessTrainer\n",
    "from botorch.sampling.normal import SobolQMCNormalSampler\n",
    "from utils import context_target_split\n",
    "from botorch.acquisition.monte_carlo import qExpectedImprovement\n",
    "from botorch.sampling.stochastic_samplers import StochasticSampler\n",
    "from botorch.acquisition.objective import IdentityMCObjective\n",
    "\n",
    "## NP model\n",
    "x_dim = 20\n",
    "y_dim = 1\n",
    "r_dim = 50  # Dimension of representation of context points\n",
    "z_dim = 50  # Dimension of sampled latent variable\n",
    "h_dim = 50  # Dimension of hidden layers in encoder and decoder\n",
    "neuralprocess = NeuralProcess(x_dim, y_dim, r_dim, z_dim, h_dim)\n",
    "optimizer = torch.optim.Adam(neuralprocess.parameters(), lr=3e-4)\n",
    "\n",
    "batch_size = 8\n",
    "num_context = 4\n",
    "num_target = 4\n",
    "np_trainer = NeuralProcessTrainer(device, neuralprocess, optimizer,\n",
    "                                  num_context_range=(num_context, num_context),\n",
    "                                  num_extra_target_range=(num_target, num_target), \n",
    "                                  print_freq=100)\n",
    "\n",
    "torch.manual_seed(0)\n",
    "\n",
    "X_np = get_initial_points(dim, n_init)\n",
    "Y_np = torch.tensor(\n",
    "    [eval_objective(x) for x in X_np], dtype=dtype, device=device\n",
    ").unsqueeze(-1)\n",
    "\n",
    "sampler = StochasticSampler(torch.Size([4]), seed=1234)\n",
    "obj = IdentityMCObjective()\n",
    "\n",
    "while len(Y_np) < 400:\n",
    "    best_f = Y_np.max() \n",
    "    train_Y = (Y_np - Y_np.mean()) / Y_np.std()\n",
    "    ackley_dataset = My_Ackley(train_x = X_np, train_y = train_Y)\n",
    "    data_loader = DataLoader(ackley_dataset, batch_size=batch_size, shuffle=True)\n",
    "\n",
    "    neuralprocess.training = True\n",
    "    np_trainer.train(data_loader, 200)\n",
    "\n",
    "    # Create a batch\n",
    "    neuralprocess.training = False\n",
    "    for batch in data_loader:\n",
    "        break\n",
    "    x, y = batch\n",
    "    x_context, y_context, _, _ = context_target_split(x[0:1], y[0:1], \n",
    "                                                    num_context, \n",
    "                                                    num_target)\n",
    "    neuralprocess.set_context_for_posterior(x_context, y_context)\n",
    "\n",
    "    ei = qExpectedImprovement(neuralprocess, best_f, sampler, obj)\n",
    "    candidate, acq_value = optimize_acqf(\n",
    "        ei,\n",
    "        bounds=torch.stack(\n",
    "            [\n",
    "                torch.zeros(dim, dtype=dtype, device=device),\n",
    "                torch.ones(dim, dtype=dtype, device=device),\n",
    "            ]\n",
    "        ),\n",
    "        q=batch_size, # The number of candidates\n",
    "        num_restarts=NUM_RESTARTS,\n",
    "        raw_samples=RAW_SAMPLES, # The number of samples for initialization.\n",
    "    )\n",
    "\n",
    "    Y_next = torch.tensor(\n",
    "        [eval_objective(x) for x in candidate], dtype=dtype, device=device\n",
    "    ).unsqueeze(-1)\n",
    "\n",
    "    # Append data\n",
    "    X_np = torch.cat((X_np, candidate), axis=0)\n",
    "    Y_np = torch.cat((Y_np, Y_next), axis=0)\n",
    "\n",
    "    # Print current status\n",
    "    print(f\"{len(X_np)}) Best value: {Y_np.max().item():.2e}\")"
   ]
  },
  {
   "cell_type": "code",
   "execution_count": 19,
   "metadata": {},
   "outputs": [
    {
     "name": "stdout",
     "output_type": "stream",
     "text": [
      "iteration 100, loss 13.068\n",
      "iteration 200, loss 10.477\n",
      "48) Best value: -1.24e+01\n",
      "iteration 300, loss 13.173\n",
      "iteration 400, loss 9.188\n",
      "56) Best value: -1.20e+01\n",
      "iteration 500, loss 9.597\n",
      "iteration 600, loss 7.706\n",
      "64) Best value: -1.20e+01\n",
      "iteration 700, loss 6.620\n",
      "iteration 800, loss 6.944\n",
      "72) Best value: -1.20e+01\n",
      "iteration 900, loss 4.916\n",
      "iteration 1000, loss 5.999\n",
      "80) Best value: -1.20e+01\n",
      "iteration 1100, loss 6.230\n",
      "iteration 1200, loss 7.123\n",
      "88) Best value: -1.18e+01\n",
      "iteration 1300, loss 6.585\n",
      "iteration 1400, loss 4.902\n",
      "96) Best value: -1.18e+01\n",
      "iteration 1500, loss 3.871\n",
      "iteration 1600, loss 3.968\n",
      "104) Best value: -1.18e+01\n",
      "iteration 1700, loss 8.005\n",
      "iteration 1800, loss 5.709\n",
      "112) Best value: -1.18e+01\n",
      "iteration 1900, loss 10.504\n",
      "iteration 2000, loss 2.045\n",
      "120) Best value: -1.18e+01\n",
      "iteration 2100, loss 4.833\n",
      "iteration 2200, loss 4.791\n",
      "128) Best value: -1.18e+01\n",
      "iteration 2300, loss 8.155\n",
      "iteration 2400, loss 8.931\n",
      "136) Best value: -1.09e+01\n",
      "iteration 2500, loss 7.475\n",
      "iteration 2600, loss 16.005\n",
      "144) Best value: -1.09e+01\n",
      "iteration 2700, loss 5.789\n",
      "iteration 2800, loss 5.142\n",
      "152) Best value: -1.09e+01\n",
      "iteration 2900, loss 6.636\n",
      "iteration 3000, loss 4.811\n",
      "160) Best value: -1.09e+01\n",
      "iteration 3100, loss 6.973\n",
      "iteration 3200, loss 4.507\n",
      "168) Best value: -1.09e+01\n",
      "iteration 3300, loss 5.855\n",
      "iteration 3400, loss 3.497\n",
      "176) Best value: -1.09e+01\n",
      "iteration 3500, loss 9.095\n",
      "iteration 3600, loss 7.548\n",
      "184) Best value: -1.09e+01\n",
      "iteration 3700, loss 7.723\n",
      "iteration 3800, loss 5.291\n",
      "192) Best value: -1.09e+01\n",
      "iteration 3900, loss 4.326\n",
      "iteration 4000, loss 4.529\n",
      "200) Best value: -1.09e+01\n",
      "iteration 4100, loss 5.984\n",
      "iteration 4200, loss 6.019\n",
      "208) Best value: -1.09e+01\n",
      "iteration 4300, loss 9.239\n",
      "iteration 4400, loss 4.274\n",
      "216) Best value: -1.09e+01\n",
      "iteration 4500, loss 3.727\n",
      "iteration 4600, loss 4.644\n",
      "224) Best value: -1.09e+01\n",
      "iteration 4700, loss 10.959\n",
      "iteration 4800, loss 6.081\n",
      "232) Best value: -1.09e+01\n",
      "iteration 4900, loss 3.794\n",
      "iteration 5000, loss 8.884\n",
      "240) Best value: -1.09e+01\n",
      "iteration 5100, loss 5.760\n",
      "iteration 5200, loss 8.257\n",
      "248) Best value: -1.09e+01\n",
      "iteration 5300, loss 6.751\n",
      "iteration 5400, loss 6.281\n",
      "256) Best value: -1.09e+01\n",
      "iteration 5500, loss 6.243\n",
      "iteration 5600, loss 6.693\n",
      "264) Best value: -1.09e+01\n",
      "iteration 5700, loss 7.246\n",
      "iteration 5800, loss 9.700\n",
      "272) Best value: -1.09e+01\n",
      "iteration 5900, loss 4.285\n",
      "iteration 6000, loss 7.026\n",
      "280) Best value: -1.09e+01\n",
      "iteration 6100, loss 5.570\n",
      "iteration 6200, loss 6.682\n",
      "288) Best value: -1.09e+01\n",
      "iteration 6300, loss 5.748\n",
      "iteration 6400, loss 5.624\n",
      "296) Best value: -1.09e+01\n",
      "iteration 6500, loss 5.110\n",
      "iteration 6600, loss 3.968\n",
      "304) Best value: -1.09e+01\n",
      "iteration 6700, loss 7.430\n",
      "iteration 6800, loss 6.140\n",
      "312) Best value: -1.09e+01\n",
      "iteration 6900, loss 6.239\n",
      "iteration 7000, loss 7.112\n",
      "320) Best value: -1.09e+01\n",
      "iteration 7100, loss 8.085\n",
      "iteration 7200, loss 3.934\n",
      "328) Best value: -1.09e+01\n",
      "iteration 7300, loss 4.921\n",
      "iteration 7400, loss 8.148\n",
      "336) Best value: -1.09e+01\n",
      "iteration 7500, loss 6.553\n",
      "iteration 7600, loss 5.537\n",
      "344) Best value: -1.09e+01\n",
      "iteration 7700, loss 6.341\n",
      "iteration 7800, loss 6.294\n",
      "352) Best value: -1.09e+01\n",
      "iteration 7900, loss 7.095\n",
      "iteration 8000, loss 4.088\n",
      "360) Best value: -1.09e+01\n",
      "iteration 8100, loss 4.003\n",
      "iteration 8200, loss 4.096\n",
      "368) Best value: -1.09e+01\n",
      "iteration 8300, loss 4.458\n",
      "iteration 8400, loss 2.147\n",
      "376) Best value: -1.09e+01\n",
      "iteration 8500, loss 3.566\n",
      "iteration 8600, loss 6.666\n",
      "384) Best value: -1.09e+01\n",
      "iteration 8700, loss 4.357\n",
      "iteration 8800, loss 7.881\n",
      "392) Best value: -1.09e+01\n",
      "iteration 8900, loss 4.761\n",
      "iteration 9000, loss 4.109\n",
      "400) Best value: -1.09e+01\n"
     ]
    }
   ],
   "source": [
    "## bo\n",
    "from torch.utils.data import DataLoader\n",
    "from neural_process import NeuralProcess\n",
    "from training import NeuralProcessTrainer\n",
    "from botorch.sampling.normal import SobolQMCNormalSampler\n",
    "from utils import context_target_split\n",
    "from botorch.acquisition.monte_carlo import qExpectedImprovement\n",
    "from botorch.sampling.stochastic_samplers import StochasticSampler\n",
    "from botorch.acquisition.objective import IdentityMCObjective\n",
    "\n",
    "## NP model\n",
    "x_dim = 20\n",
    "y_dim = 1\n",
    "r_dim = 50  # Dimension of representation of context points\n",
    "z_dim = 50  # Dimension of sampled latent variable\n",
    "h_dim = 50  # Dimension of hidden layers in encoder and decoder\n",
    "neuralprocess = NeuralProcess(x_dim, y_dim, r_dim, z_dim, h_dim)\n",
    "optimizer = torch.optim.Adam(neuralprocess.parameters(), lr=3e-4)\n",
    "\n",
    "batch_size = 8\n",
    "num_context = 4\n",
    "num_target = 4\n",
    "np_trainer = NeuralProcessTrainer(device, neuralprocess, optimizer,\n",
    "                                  num_context_range=(num_context, num_context),\n",
    "                                  num_extra_target_range=(num_target, num_target), \n",
    "                                  print_freq=100)\n",
    "\n",
    "torch.manual_seed(0)\n",
    "\n",
    "X_np1 = get_initial_points(dim, n_init)\n",
    "Y_np1 = torch.tensor(\n",
    "    [eval_objective(x) for x in X_np1], dtype=dtype, device=device\n",
    ").unsqueeze(-1)\n",
    "\n",
    "sampler = StochasticSampler(torch.Size([4]), seed=1234)\n",
    "obj = IdentityMCObjective()\n",
    "\n",
    "while len(Y_np1) < 400:\n",
    "    best_f = Y_np1.max() \n",
    "    train_Y = (Y_np1 - Y_np1.mean()) / Y_np1.std()\n",
    "    ackley_dataset = My_Ackley(train_x = X_np1, train_y = train_Y)\n",
    "    data_loader = DataLoader(ackley_dataset, batch_size=batch_size, shuffle=True)\n",
    "\n",
    "    neuralprocess.training = True\n",
    "    np_trainer.train(data_loader, 200)\n",
    "\n",
    "    # Create a batch\n",
    "    neuralprocess.training = False\n",
    "    for batch in data_loader:\n",
    "        break\n",
    "    x, y = batch\n",
    "    x_context, y_context, _, _ = context_target_split(x[0:1], y[0:1], \n",
    "                                                    num_context, \n",
    "                                                    num_target)\n",
    "    neuralprocess.set_context_for_posterior(x_context, y_context)\n",
    "\n",
    "    ei = qExpectedImprovement(neuralprocess, train_Y.max(), sampler, obj)\n",
    "    candidate, acq_value = optimize_acqf(\n",
    "        ei,\n",
    "        bounds=torch.stack(\n",
    "            [\n",
    "                torch.zeros(dim, dtype=dtype, device=device),\n",
    "                torch.ones(dim, dtype=dtype, device=device),\n",
    "            ]\n",
    "        ),\n",
    "        q=batch_size, # The number of candidates\n",
    "        num_restarts=NUM_RESTARTS,\n",
    "        raw_samples=RAW_SAMPLES, # The number of samples for initialization.\n",
    "    )\n",
    "\n",
    "    Y_next = torch.tensor(\n",
    "        [eval_objective(x) for x in candidate], dtype=dtype, device=device\n",
    "    ).unsqueeze(-1)\n",
    "\n",
    "    # Append data\n",
    "    X_np1 = torch.cat((X_np1, candidate), axis=0)\n",
    "    Y_np1 = torch.cat((Y_np1, Y_next), axis=0)\n",
    "\n",
    "    # Print current status\n",
    "    print(f\"{len(X_np1)}) Best value: {Y_np1.max().item():.2e}\")"
   ]
  },
  {
   "cell_type": "markdown",
   "metadata": {},
   "source": [
    "## plot"
   ]
  },
  {
   "cell_type": "code",
   "execution_count": 13,
   "metadata": {},
   "outputs": [
    {
     "data": {
      "image/png": "[encoded data removed]",
      "text/plain": [
       "<Figure size 800x600 with 1 Axes>"
      ]
     },
     "metadata": {},
     "output_type": "display_data"
    }
   ],
   "source": [
    "import matplotlib\n",
    "import matplotlib.pyplot as plt\n",
    "import numpy as np\n",
    "from matplotlib import rc\n",
    "\n",
    "%matplotlib inline\n",
    "\n",
    "names = [\"GP-qEI\", \"NP-qEI-stochasticsampler\", \"NP-qEI-stochasticsampler1\", \"NP-qEI-stochasticsampler1\"] # , \"EI\", \"Sobol\"\n",
    "runs = [Y_ei, Y_np, Y_np1] # , Y_ei, Y_Sobol\n",
    "fig, ax = plt.subplots(figsize=(8, 6))\n",
    "\n",
    "for name, run in zip(names, runs):\n",
    "    fx = np.maximum.accumulate(run.cpu())\n",
    "    plt.plot(fx, marker=\"\", lw=3)\n",
    "\n",
    "plt.plot([0, len(Y_ei)], [fun.optimal_value, fun.optimal_value], \"k--\", lw=3)\n",
    "plt.xlabel(\"Function value\", fontsize=18)\n",
    "plt.xlabel(\"Number of evaluations\", fontsize=18)\n",
    "plt.title(\"20D Ackley\", fontsize=24)\n",
    "plt.xlim([0, len(Y_ei)])\n",
    "plt.ylim([-15, 1])\n",
    "\n",
    "plt.grid(True)\n",
    "plt.tight_layout()\n",
    "plt.legend(\n",
    "    names + [\"Global optimal value\"],\n",
    "    loc=\"lower center\",\n",
    "    bbox_to_anchor=(0, -0.08, 1, 1),\n",
    "    bbox_transform=plt.gcf().transFigure,\n",
    "    ncol=4,\n",
    "    fontsize=16,\n",
    ")\n",
    "plt.show()"
   ]
  }
 ],
 "metadata": {
  "kernelspec": {
   "display_name": "botorch_ex",
   "language": "python",
   "name": "python3"
  },
  "language_info": {
   "codemirror_mode": {
    "name": "ipython",
    "version": 3
   },
   "file_extension": ".py",
   "mimetype": "text/x-python",
   "name": "python",
   "nbconvert_exporter": "python",
   "pygments_lexer": "ipython3",
   "version": "3.9.18"
  }
 },
 "nbformat": 4,
 "nbformat_minor": 2
}
